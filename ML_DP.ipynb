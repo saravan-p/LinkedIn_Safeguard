{
  "cells": [
    {
      "cell_type": "markdown",
      "metadata": {
        "id": "7CaYeJf-eK4m"
      },
      "source": [
        "### **Import Libraries**"
      ]
    },
    {
      "cell_type": "code",
      "execution_count": 1,
      "metadata": {
        "id": "wkBGM9NAdWTD"
      },
      "outputs": [],
      "source": [
        "import pandas as pd \n",
        "import numpy as np\n",
        "import matplotlib.pyplot as plt\n",
        "import seaborn as sns\n",
        "import warnings\n",
        "warnings.filterwarnings(\"ignore\")\n",
        "import pandas as pd\n",
        "from sklearn.metrics import classification_report\n",
        "from sklearn.metrics import confusion_matrix\n",
        "from sklearn.metrics import accuracy_score\n",
        "from sklearn.neighbors import KNeighborsClassifier\n",
        "from sklearn.svm import SVC\n",
        "from sklearn.linear_model import LogisticRegression\n",
        "from sklearn.model_selection import train_test_split\n",
        "from sklearn.discriminant_analysis import LinearDiscriminantAnalysis\n",
        "from sklearn.neighbors import KNeighborsClassifier\n",
        "from sklearn.naive_bayes import GaussianNB\n",
        "from sklearn.tree import DecisionTreeClassifier\n",
        "from sklearn.svm import SVC\n",
        "from sklearn.naive_bayes import GaussianNB\n",
        "from sklearn.metrics import confusion_matrix, ConfusionMatrixDisplay\n",
        "\n"
      ]
    },
    {
      "cell_type": "code",
      "source": [
        "!pip install pyyaml h5py"
      ],
      "metadata": {
        "id": "Hkye5X4KVDc5",
        "outputId": "7b35b7c1-8ac5-4bf7-a764-22d04a027926",
        "colab": {
          "base_uri": "https://localhost:8080/"
        }
      },
      "execution_count": 2,
      "outputs": [
        {
          "output_type": "stream",
          "name": "stdout",
          "text": [
            "Looking in indexes: https://pypi.org/simple, https://us-python.pkg.dev/colab-wheels/public/simple/\n",
            "Requirement already satisfied: pyyaml in /usr/local/lib/python3.10/dist-packages (6.0)\n",
            "Requirement already satisfied: h5py in /usr/local/lib/python3.10/dist-packages (3.8.0)\n",
            "Requirement already satisfied: numpy>=1.14.5 in /usr/local/lib/python3.10/dist-packages (from h5py) (1.22.4)\n"
          ]
        }
      ]
    },
    {
      "cell_type": "markdown",
      "metadata": {
        "id": "cKmCoyzneShn"
      },
      "source": [
        "## Pre-Processing"
      ]
    },
    {
      "cell_type": "code",
      "execution_count": 3,
      "metadata": {
        "id": "j-x3rFvcdbTy",
        "colab": {
          "base_uri": "https://localhost:8080/"
        },
        "outputId": "268627f0-2436-4fd7-ae4a-92fabc313f04"
      },
      "outputs": [
        {
          "output_type": "stream",
          "name": "stdout",
          "text": [
            "<class 'pandas.core.frame.DataFrame'>\n",
            "RangeIndex: 800 entries, 0 to 799\n",
            "Data columns (total 12 columns):\n",
            " #   Column                     Non-Null Count  Dtype  \n",
            "---  ------                     --------------  -----  \n",
            " 0   LinkedIn Followers > 1000  800 non-null    int64  \n",
            " 1   Profile Picture            799 non-null    float64\n",
            " 2   Responsive Website         799 non-null    float64\n",
            " 3   Staff Count > 1000         799 non-null    float64\n",
            " 4   Staff Premium Accounts     795 non-null    float64\n",
            " 5   Summary Section            798 non-null    float64\n",
            " 6   Verified Address           797 non-null    float64\n",
            " 7   Published Articles         796 non-null    float64\n",
            " 8   Requests Sensitive Info    792 non-null    float64\n",
            " 9   Legitimate Email           788 non-null    float64\n",
            " 10  LinkedIn Recommendations   783 non-null    float64\n",
            " 11  Risk level                 799 non-null    float64\n",
            "dtypes: float64(11), int64(1)\n",
            "memory usage: 75.1 KB\n"
          ]
        }
      ],
      "source": [
        "df=pd.read_csv(\"Company.csv\")\n",
        "df = df.iloc[:, 1:]\n",
        "df.info()"
      ]
    },
    {
      "cell_type": "code",
      "source": [
        "# numerical data statistics\n",
        "\n",
        "round (df.describe(exclude = 'object'), 2)"
      ],
      "metadata": {
        "colab": {
          "base_uri": "https://localhost:8080/",
          "height": 396
        },
        "id": "16NMgItHK-Vr",
        "outputId": "21eadfbc-6a27-49da-aec0-f9561f4e8ef7"
      },
      "execution_count": 4,
      "outputs": [
        {
          "output_type": "execute_result",
          "data": {
            "text/plain": [
              "       LinkedIn Followers > 1000  Profile Picture  Responsive Website  \\\n",
              "count                     800.00           799.00              799.00   \n",
              "mean                        0.65             0.83                0.84   \n",
              "std                         0.48             0.37                0.37   \n",
              "min                         0.00             0.00                0.00   \n",
              "25%                         0.00             1.00                1.00   \n",
              "50%                         1.00             1.00                1.00   \n",
              "75%                         1.00             1.00                1.00   \n",
              "max                         1.00             1.00                1.00   \n",
              "\n",
              "       Staff Count > 1000  Staff Premium Accounts  Summary Section  \\\n",
              "count              799.00                  795.00           798.00   \n",
              "mean                 0.62                    0.52             0.76   \n",
              "std                  0.48                    0.50             0.43   \n",
              "min                  0.00                    0.00             0.00   \n",
              "25%                  0.00                    0.00             1.00   \n",
              "50%                  1.00                    1.00             1.00   \n",
              "75%                  1.00                    1.00             1.00   \n",
              "max                  1.00                    1.00             1.00   \n",
              "\n",
              "       Verified Address  Published Articles  Requests Sensitive Info  \\\n",
              "count            797.00              796.00                   792.00   \n",
              "mean               0.49                0.51                     0.14   \n",
              "std                0.50                0.50                     0.34   \n",
              "min                0.00                0.00                     0.00   \n",
              "25%                0.00                0.00                     0.00   \n",
              "50%                0.00                1.00                     0.00   \n",
              "75%                1.00                1.00                     0.00   \n",
              "max                1.00                1.00                     1.00   \n",
              "\n",
              "       Legitimate Email  LinkedIn Recommendations  Risk level  \n",
              "count            788.00                    783.00      799.00  \n",
              "mean               0.86                      0.51        1.17  \n",
              "std                0.34                      0.50        1.69  \n",
              "min                0.00                      0.00        0.00  \n",
              "25%                1.00                      0.00        0.00  \n",
              "50%                1.00                      1.00        0.00  \n",
              "75%                1.00                      1.00        3.00  \n",
              "max                1.00                      1.00        5.00  "
            ],
            "text/html": [
              "\n",
              "  <div id=\"df-ff0c783a-547e-43ab-ae68-f58366d41c24\">\n",
              "    <div class=\"colab-df-container\">\n",
              "      <div>\n",
              "<style scoped>\n",
              "    .dataframe tbody tr th:only-of-type {\n",
              "        vertical-align: middle;\n",
              "    }\n",
              "\n",
              "    .dataframe tbody tr th {\n",
              "        vertical-align: top;\n",
              "    }\n",
              "\n",
              "    .dataframe thead th {\n",
              "        text-align: right;\n",
              "    }\n",
              "</style>\n",
              "<table border=\"1\" class=\"dataframe\">\n",
              "  <thead>\n",
              "    <tr style=\"text-align: right;\">\n",
              "      <th></th>\n",
              "      <th>LinkedIn Followers &gt; 1000</th>\n",
              "      <th>Profile Picture</th>\n",
              "      <th>Responsive Website</th>\n",
              "      <th>Staff Count &gt; 1000</th>\n",
              "      <th>Staff Premium Accounts</th>\n",
              "      <th>Summary Section</th>\n",
              "      <th>Verified Address</th>\n",
              "      <th>Published Articles</th>\n",
              "      <th>Requests Sensitive Info</th>\n",
              "      <th>Legitimate Email</th>\n",
              "      <th>LinkedIn Recommendations</th>\n",
              "      <th>Risk level</th>\n",
              "    </tr>\n",
              "  </thead>\n",
              "  <tbody>\n",
              "    <tr>\n",
              "      <th>count</th>\n",
              "      <td>800.00</td>\n",
              "      <td>799.00</td>\n",
              "      <td>799.00</td>\n",
              "      <td>799.00</td>\n",
              "      <td>795.00</td>\n",
              "      <td>798.00</td>\n",
              "      <td>797.00</td>\n",
              "      <td>796.00</td>\n",
              "      <td>792.00</td>\n",
              "      <td>788.00</td>\n",
              "      <td>783.00</td>\n",
              "      <td>799.00</td>\n",
              "    </tr>\n",
              "    <tr>\n",
              "      <th>mean</th>\n",
              "      <td>0.65</td>\n",
              "      <td>0.83</td>\n",
              "      <td>0.84</td>\n",
              "      <td>0.62</td>\n",
              "      <td>0.52</td>\n",
              "      <td>0.76</td>\n",
              "      <td>0.49</td>\n",
              "      <td>0.51</td>\n",
              "      <td>0.14</td>\n",
              "      <td>0.86</td>\n",
              "      <td>0.51</td>\n",
              "      <td>1.17</td>\n",
              "    </tr>\n",
              "    <tr>\n",
              "      <th>std</th>\n",
              "      <td>0.48</td>\n",
              "      <td>0.37</td>\n",
              "      <td>0.37</td>\n",
              "      <td>0.48</td>\n",
              "      <td>0.50</td>\n",
              "      <td>0.43</td>\n",
              "      <td>0.50</td>\n",
              "      <td>0.50</td>\n",
              "      <td>0.34</td>\n",
              "      <td>0.34</td>\n",
              "      <td>0.50</td>\n",
              "      <td>1.69</td>\n",
              "    </tr>\n",
              "    <tr>\n",
              "      <th>min</th>\n",
              "      <td>0.00</td>\n",
              "      <td>0.00</td>\n",
              "      <td>0.00</td>\n",
              "      <td>0.00</td>\n",
              "      <td>0.00</td>\n",
              "      <td>0.00</td>\n",
              "      <td>0.00</td>\n",
              "      <td>0.00</td>\n",
              "      <td>0.00</td>\n",
              "      <td>0.00</td>\n",
              "      <td>0.00</td>\n",
              "      <td>0.00</td>\n",
              "    </tr>\n",
              "    <tr>\n",
              "      <th>25%</th>\n",
              "      <td>0.00</td>\n",
              "      <td>1.00</td>\n",
              "      <td>1.00</td>\n",
              "      <td>0.00</td>\n",
              "      <td>0.00</td>\n",
              "      <td>1.00</td>\n",
              "      <td>0.00</td>\n",
              "      <td>0.00</td>\n",
              "      <td>0.00</td>\n",
              "      <td>1.00</td>\n",
              "      <td>0.00</td>\n",
              "      <td>0.00</td>\n",
              "    </tr>\n",
              "    <tr>\n",
              "      <th>50%</th>\n",
              "      <td>1.00</td>\n",
              "      <td>1.00</td>\n",
              "      <td>1.00</td>\n",
              "      <td>1.00</td>\n",
              "      <td>1.00</td>\n",
              "      <td>1.00</td>\n",
              "      <td>0.00</td>\n",
              "      <td>1.00</td>\n",
              "      <td>0.00</td>\n",
              "      <td>1.00</td>\n",
              "      <td>1.00</td>\n",
              "      <td>0.00</td>\n",
              "    </tr>\n",
              "    <tr>\n",
              "      <th>75%</th>\n",
              "      <td>1.00</td>\n",
              "      <td>1.00</td>\n",
              "      <td>1.00</td>\n",
              "      <td>1.00</td>\n",
              "      <td>1.00</td>\n",
              "      <td>1.00</td>\n",
              "      <td>1.00</td>\n",
              "      <td>1.00</td>\n",
              "      <td>0.00</td>\n",
              "      <td>1.00</td>\n",
              "      <td>1.00</td>\n",
              "      <td>3.00</td>\n",
              "    </tr>\n",
              "    <tr>\n",
              "      <th>max</th>\n",
              "      <td>1.00</td>\n",
              "      <td>1.00</td>\n",
              "      <td>1.00</td>\n",
              "      <td>1.00</td>\n",
              "      <td>1.00</td>\n",
              "      <td>1.00</td>\n",
              "      <td>1.00</td>\n",
              "      <td>1.00</td>\n",
              "      <td>1.00</td>\n",
              "      <td>1.00</td>\n",
              "      <td>1.00</td>\n",
              "      <td>5.00</td>\n",
              "    </tr>\n",
              "  </tbody>\n",
              "</table>\n",
              "</div>\n",
              "      <button class=\"colab-df-convert\" onclick=\"convertToInteractive('df-ff0c783a-547e-43ab-ae68-f58366d41c24')\"\n",
              "              title=\"Convert this dataframe to an interactive table.\"\n",
              "              style=\"display:none;\">\n",
              "        \n",
              "  <svg xmlns=\"http://www.w3.org/2000/svg\" height=\"24px\"viewBox=\"0 0 24 24\"\n",
              "       width=\"24px\">\n",
              "    <path d=\"M0 0h24v24H0V0z\" fill=\"none\"/>\n",
              "    <path d=\"M18.56 5.44l.94 2.06.94-2.06 2.06-.94-2.06-.94-.94-2.06-.94 2.06-2.06.94zm-11 1L8.5 8.5l.94-2.06 2.06-.94-2.06-.94L8.5 2.5l-.94 2.06-2.06.94zm10 10l.94 2.06.94-2.06 2.06-.94-2.06-.94-.94-2.06-.94 2.06-2.06.94z\"/><path d=\"M17.41 7.96l-1.37-1.37c-.4-.4-.92-.59-1.43-.59-.52 0-1.04.2-1.43.59L10.3 9.45l-7.72 7.72c-.78.78-.78 2.05 0 2.83L4 21.41c.39.39.9.59 1.41.59.51 0 1.02-.2 1.41-.59l7.78-7.78 2.81-2.81c.8-.78.8-2.07 0-2.86zM5.41 20L4 18.59l7.72-7.72 1.47 1.35L5.41 20z\"/>\n",
              "  </svg>\n",
              "      </button>\n",
              "      \n",
              "  <style>\n",
              "    .colab-df-container {\n",
              "      display:flex;\n",
              "      flex-wrap:wrap;\n",
              "      gap: 12px;\n",
              "    }\n",
              "\n",
              "    .colab-df-convert {\n",
              "      background-color: #E8F0FE;\n",
              "      border: none;\n",
              "      border-radius: 50%;\n",
              "      cursor: pointer;\n",
              "      display: none;\n",
              "      fill: #1967D2;\n",
              "      height: 32px;\n",
              "      padding: 0 0 0 0;\n",
              "      width: 32px;\n",
              "    }\n",
              "\n",
              "    .colab-df-convert:hover {\n",
              "      background-color: #E2EBFA;\n",
              "      box-shadow: 0px 1px 2px rgba(60, 64, 67, 0.3), 0px 1px 3px 1px rgba(60, 64, 67, 0.15);\n",
              "      fill: #174EA6;\n",
              "    }\n",
              "\n",
              "    [theme=dark] .colab-df-convert {\n",
              "      background-color: #3B4455;\n",
              "      fill: #D2E3FC;\n",
              "    }\n",
              "\n",
              "    [theme=dark] .colab-df-convert:hover {\n",
              "      background-color: #434B5C;\n",
              "      box-shadow: 0px 1px 3px 1px rgba(0, 0, 0, 0.15);\n",
              "      filter: drop-shadow(0px 1px 2px rgba(0, 0, 0, 0.3));\n",
              "      fill: #FFFFFF;\n",
              "    }\n",
              "  </style>\n",
              "\n",
              "      <script>\n",
              "        const buttonEl =\n",
              "          document.querySelector('#df-ff0c783a-547e-43ab-ae68-f58366d41c24 button.colab-df-convert');\n",
              "        buttonEl.style.display =\n",
              "          google.colab.kernel.accessAllowed ? 'block' : 'none';\n",
              "\n",
              "        async function convertToInteractive(key) {\n",
              "          const element = document.querySelector('#df-ff0c783a-547e-43ab-ae68-f58366d41c24');\n",
              "          const dataTable =\n",
              "            await google.colab.kernel.invokeFunction('convertToInteractive',\n",
              "                                                     [key], {});\n",
              "          if (!dataTable) return;\n",
              "\n",
              "          const docLinkHtml = 'Like what you see? Visit the ' +\n",
              "            '<a target=\"_blank\" href=https://colab.research.google.com/notebooks/data_table.ipynb>data table notebook</a>'\n",
              "            + ' to learn more about interactive tables.';\n",
              "          element.innerHTML = '';\n",
              "          dataTable['output_type'] = 'display_data';\n",
              "          await google.colab.output.renderOutput(dataTable, element);\n",
              "          const docLink = document.createElement('div');\n",
              "          docLink.innerHTML = docLinkHtml;\n",
              "          element.appendChild(docLink);\n",
              "        }\n",
              "      </script>\n",
              "    </div>\n",
              "  </div>\n",
              "  "
            ]
          },
          "metadata": {},
          "execution_count": 4
        }
      ]
    },
    {
      "cell_type": "code",
      "execution_count": 5,
      "metadata": {
        "colab": {
          "base_uri": "https://localhost:8080/",
          "height": 520
        },
        "id": "OiwGTaWiS4_c",
        "outputId": "2f9a6047-2ca9-4c7a-fac7-a53e2aa9762e"
      },
      "outputs": [
        {
          "output_type": "execute_result",
          "data": {
            "text/plain": [
              "    LinkedIn Followers > 1000  Profile Picture  Responsive Website  \\\n",
              "0                           1              1.0                 1.0   \n",
              "1                           1              1.0                 1.0   \n",
              "2                           0              0.0                 1.0   \n",
              "3                           0              0.0                 1.0   \n",
              "4                           1              1.0                 1.0   \n",
              "..                        ...              ...                 ...   \n",
              "95                          0              1.0                 1.0   \n",
              "96                          0              1.0                 1.0   \n",
              "97                          0              1.0                 1.0   \n",
              "98                          0              1.0                 1.0   \n",
              "99                          0              1.0                 1.0   \n",
              "\n",
              "    Staff Count > 1000  Staff Premium Accounts  Summary Section  \\\n",
              "0                  0.0                     0.0              1.0   \n",
              "1                  0.0                     0.0              1.0   \n",
              "2                  0.0                     0.0              0.0   \n",
              "3                  0.0                     0.0              0.0   \n",
              "4                  1.0                     0.0              1.0   \n",
              "..                 ...                     ...              ...   \n",
              "95                 0.0                     0.0              1.0   \n",
              "96                 0.0                     0.0              1.0   \n",
              "97                 0.0                     0.0              0.0   \n",
              "98                 0.0                     0.0              1.0   \n",
              "99                 0.0                     0.0              1.0   \n",
              "\n",
              "    Verified Address  Published Articles  Requests Sensitive Info  \\\n",
              "0                0.0                 0.0                      0.0   \n",
              "1                0.0                 0.0                      0.0   \n",
              "2                0.0                 0.0                      0.0   \n",
              "3                0.0                 0.0                      0.0   \n",
              "4                0.0                 0.0                      0.0   \n",
              "..               ...                 ...                      ...   \n",
              "95               0.0                 0.0                      0.0   \n",
              "96               0.0                 0.0                      0.0   \n",
              "97               0.0                 0.0                      0.0   \n",
              "98               0.0                 0.0                      0.0   \n",
              "99               0.0                 0.0                      0.0   \n",
              "\n",
              "    Legitimate Email  LinkedIn Recommendations  Risk level  \n",
              "0                1.0                       0.0         2.0  \n",
              "1                1.0                       0.0         2.0  \n",
              "2                1.0                       0.0         5.0  \n",
              "3                1.0                       0.0         5.0  \n",
              "4                1.0                       0.0         1.0  \n",
              "..               ...                       ...         ...  \n",
              "95               1.0                       0.0         3.0  \n",
              "96               1.0                       0.0         3.0  \n",
              "97               1.0                       0.0         3.0  \n",
              "98               1.0                       0.0         3.0  \n",
              "99               1.0                       0.0         3.0  \n",
              "\n",
              "[100 rows x 12 columns]"
            ],
            "text/html": [
              "\n",
              "  <div id=\"df-6e53dad3-a2a3-4c06-98a0-200ca94cd9cb\">\n",
              "    <div class=\"colab-df-container\">\n",
              "      <div>\n",
              "<style scoped>\n",
              "    .dataframe tbody tr th:only-of-type {\n",
              "        vertical-align: middle;\n",
              "    }\n",
              "\n",
              "    .dataframe tbody tr th {\n",
              "        vertical-align: top;\n",
              "    }\n",
              "\n",
              "    .dataframe thead th {\n",
              "        text-align: right;\n",
              "    }\n",
              "</style>\n",
              "<table border=\"1\" class=\"dataframe\">\n",
              "  <thead>\n",
              "    <tr style=\"text-align: right;\">\n",
              "      <th></th>\n",
              "      <th>LinkedIn Followers &gt; 1000</th>\n",
              "      <th>Profile Picture</th>\n",
              "      <th>Responsive Website</th>\n",
              "      <th>Staff Count &gt; 1000</th>\n",
              "      <th>Staff Premium Accounts</th>\n",
              "      <th>Summary Section</th>\n",
              "      <th>Verified Address</th>\n",
              "      <th>Published Articles</th>\n",
              "      <th>Requests Sensitive Info</th>\n",
              "      <th>Legitimate Email</th>\n",
              "      <th>LinkedIn Recommendations</th>\n",
              "      <th>Risk level</th>\n",
              "    </tr>\n",
              "  </thead>\n",
              "  <tbody>\n",
              "    <tr>\n",
              "      <th>0</th>\n",
              "      <td>1</td>\n",
              "      <td>1.0</td>\n",
              "      <td>1.0</td>\n",
              "      <td>0.0</td>\n",
              "      <td>0.0</td>\n",
              "      <td>1.0</td>\n",
              "      <td>0.0</td>\n",
              "      <td>0.0</td>\n",
              "      <td>0.0</td>\n",
              "      <td>1.0</td>\n",
              "      <td>0.0</td>\n",
              "      <td>2.0</td>\n",
              "    </tr>\n",
              "    <tr>\n",
              "      <th>1</th>\n",
              "      <td>1</td>\n",
              "      <td>1.0</td>\n",
              "      <td>1.0</td>\n",
              "      <td>0.0</td>\n",
              "      <td>0.0</td>\n",
              "      <td>1.0</td>\n",
              "      <td>0.0</td>\n",
              "      <td>0.0</td>\n",
              "      <td>0.0</td>\n",
              "      <td>1.0</td>\n",
              "      <td>0.0</td>\n",
              "      <td>2.0</td>\n",
              "    </tr>\n",
              "    <tr>\n",
              "      <th>2</th>\n",
              "      <td>0</td>\n",
              "      <td>0.0</td>\n",
              "      <td>1.0</td>\n",
              "      <td>0.0</td>\n",
              "      <td>0.0</td>\n",
              "      <td>0.0</td>\n",
              "      <td>0.0</td>\n",
              "      <td>0.0</td>\n",
              "      <td>0.0</td>\n",
              "      <td>1.0</td>\n",
              "      <td>0.0</td>\n",
              "      <td>5.0</td>\n",
              "    </tr>\n",
              "    <tr>\n",
              "      <th>3</th>\n",
              "      <td>0</td>\n",
              "      <td>0.0</td>\n",
              "      <td>1.0</td>\n",
              "      <td>0.0</td>\n",
              "      <td>0.0</td>\n",
              "      <td>0.0</td>\n",
              "      <td>0.0</td>\n",
              "      <td>0.0</td>\n",
              "      <td>0.0</td>\n",
              "      <td>1.0</td>\n",
              "      <td>0.0</td>\n",
              "      <td>5.0</td>\n",
              "    </tr>\n",
              "    <tr>\n",
              "      <th>4</th>\n",
              "      <td>1</td>\n",
              "      <td>1.0</td>\n",
              "      <td>1.0</td>\n",
              "      <td>1.0</td>\n",
              "      <td>0.0</td>\n",
              "      <td>1.0</td>\n",
              "      <td>0.0</td>\n",
              "      <td>0.0</td>\n",
              "      <td>0.0</td>\n",
              "      <td>1.0</td>\n",
              "      <td>0.0</td>\n",
              "      <td>1.0</td>\n",
              "    </tr>\n",
              "    <tr>\n",
              "      <th>...</th>\n",
              "      <td>...</td>\n",
              "      <td>...</td>\n",
              "      <td>...</td>\n",
              "      <td>...</td>\n",
              "      <td>...</td>\n",
              "      <td>...</td>\n",
              "      <td>...</td>\n",
              "      <td>...</td>\n",
              "      <td>...</td>\n",
              "      <td>...</td>\n",
              "      <td>...</td>\n",
              "      <td>...</td>\n",
              "    </tr>\n",
              "    <tr>\n",
              "      <th>95</th>\n",
              "      <td>0</td>\n",
              "      <td>1.0</td>\n",
              "      <td>1.0</td>\n",
              "      <td>0.0</td>\n",
              "      <td>0.0</td>\n",
              "      <td>1.0</td>\n",
              "      <td>0.0</td>\n",
              "      <td>0.0</td>\n",
              "      <td>0.0</td>\n",
              "      <td>1.0</td>\n",
              "      <td>0.0</td>\n",
              "      <td>3.0</td>\n",
              "    </tr>\n",
              "    <tr>\n",
              "      <th>96</th>\n",
              "      <td>0</td>\n",
              "      <td>1.0</td>\n",
              "      <td>1.0</td>\n",
              "      <td>0.0</td>\n",
              "      <td>0.0</td>\n",
              "      <td>1.0</td>\n",
              "      <td>0.0</td>\n",
              "      <td>0.0</td>\n",
              "      <td>0.0</td>\n",
              "      <td>1.0</td>\n",
              "      <td>0.0</td>\n",
              "      <td>3.0</td>\n",
              "    </tr>\n",
              "    <tr>\n",
              "      <th>97</th>\n",
              "      <td>0</td>\n",
              "      <td>1.0</td>\n",
              "      <td>1.0</td>\n",
              "      <td>0.0</td>\n",
              "      <td>0.0</td>\n",
              "      <td>0.0</td>\n",
              "      <td>0.0</td>\n",
              "      <td>0.0</td>\n",
              "      <td>0.0</td>\n",
              "      <td>1.0</td>\n",
              "      <td>0.0</td>\n",
              "      <td>3.0</td>\n",
              "    </tr>\n",
              "    <tr>\n",
              "      <th>98</th>\n",
              "      <td>0</td>\n",
              "      <td>1.0</td>\n",
              "      <td>1.0</td>\n",
              "      <td>0.0</td>\n",
              "      <td>0.0</td>\n",
              "      <td>1.0</td>\n",
              "      <td>0.0</td>\n",
              "      <td>0.0</td>\n",
              "      <td>0.0</td>\n",
              "      <td>1.0</td>\n",
              "      <td>0.0</td>\n",
              "      <td>3.0</td>\n",
              "    </tr>\n",
              "    <tr>\n",
              "      <th>99</th>\n",
              "      <td>0</td>\n",
              "      <td>1.0</td>\n",
              "      <td>1.0</td>\n",
              "      <td>0.0</td>\n",
              "      <td>0.0</td>\n",
              "      <td>1.0</td>\n",
              "      <td>0.0</td>\n",
              "      <td>0.0</td>\n",
              "      <td>0.0</td>\n",
              "      <td>1.0</td>\n",
              "      <td>0.0</td>\n",
              "      <td>3.0</td>\n",
              "    </tr>\n",
              "  </tbody>\n",
              "</table>\n",
              "<p>100 rows × 12 columns</p>\n",
              "</div>\n",
              "      <button class=\"colab-df-convert\" onclick=\"convertToInteractive('df-6e53dad3-a2a3-4c06-98a0-200ca94cd9cb')\"\n",
              "              title=\"Convert this dataframe to an interactive table.\"\n",
              "              style=\"display:none;\">\n",
              "        \n",
              "  <svg xmlns=\"http://www.w3.org/2000/svg\" height=\"24px\"viewBox=\"0 0 24 24\"\n",
              "       width=\"24px\">\n",
              "    <path d=\"M0 0h24v24H0V0z\" fill=\"none\"/>\n",
              "    <path d=\"M18.56 5.44l.94 2.06.94-2.06 2.06-.94-2.06-.94-.94-2.06-.94 2.06-2.06.94zm-11 1L8.5 8.5l.94-2.06 2.06-.94-2.06-.94L8.5 2.5l-.94 2.06-2.06.94zm10 10l.94 2.06.94-2.06 2.06-.94-2.06-.94-.94-2.06-.94 2.06-2.06.94z\"/><path d=\"M17.41 7.96l-1.37-1.37c-.4-.4-.92-.59-1.43-.59-.52 0-1.04.2-1.43.59L10.3 9.45l-7.72 7.72c-.78.78-.78 2.05 0 2.83L4 21.41c.39.39.9.59 1.41.59.51 0 1.02-.2 1.41-.59l7.78-7.78 2.81-2.81c.8-.78.8-2.07 0-2.86zM5.41 20L4 18.59l7.72-7.72 1.47 1.35L5.41 20z\"/>\n",
              "  </svg>\n",
              "      </button>\n",
              "      \n",
              "  <style>\n",
              "    .colab-df-container {\n",
              "      display:flex;\n",
              "      flex-wrap:wrap;\n",
              "      gap: 12px;\n",
              "    }\n",
              "\n",
              "    .colab-df-convert {\n",
              "      background-color: #E8F0FE;\n",
              "      border: none;\n",
              "      border-radius: 50%;\n",
              "      cursor: pointer;\n",
              "      display: none;\n",
              "      fill: #1967D2;\n",
              "      height: 32px;\n",
              "      padding: 0 0 0 0;\n",
              "      width: 32px;\n",
              "    }\n",
              "\n",
              "    .colab-df-convert:hover {\n",
              "      background-color: #E2EBFA;\n",
              "      box-shadow: 0px 1px 2px rgba(60, 64, 67, 0.3), 0px 1px 3px 1px rgba(60, 64, 67, 0.15);\n",
              "      fill: #174EA6;\n",
              "    }\n",
              "\n",
              "    [theme=dark] .colab-df-convert {\n",
              "      background-color: #3B4455;\n",
              "      fill: #D2E3FC;\n",
              "    }\n",
              "\n",
              "    [theme=dark] .colab-df-convert:hover {\n",
              "      background-color: #434B5C;\n",
              "      box-shadow: 0px 1px 3px 1px rgba(0, 0, 0, 0.15);\n",
              "      filter: drop-shadow(0px 1px 2px rgba(0, 0, 0, 0.3));\n",
              "      fill: #FFFFFF;\n",
              "    }\n",
              "  </style>\n",
              "\n",
              "      <script>\n",
              "        const buttonEl =\n",
              "          document.querySelector('#df-6e53dad3-a2a3-4c06-98a0-200ca94cd9cb button.colab-df-convert');\n",
              "        buttonEl.style.display =\n",
              "          google.colab.kernel.accessAllowed ? 'block' : 'none';\n",
              "\n",
              "        async function convertToInteractive(key) {\n",
              "          const element = document.querySelector('#df-6e53dad3-a2a3-4c06-98a0-200ca94cd9cb');\n",
              "          const dataTable =\n",
              "            await google.colab.kernel.invokeFunction('convertToInteractive',\n",
              "                                                     [key], {});\n",
              "          if (!dataTable) return;\n",
              "\n",
              "          const docLinkHtml = 'Like what you see? Visit the ' +\n",
              "            '<a target=\"_blank\" href=https://colab.research.google.com/notebooks/data_table.ipynb>data table notebook</a>'\n",
              "            + ' to learn more about interactive tables.';\n",
              "          element.innerHTML = '';\n",
              "          dataTable['output_type'] = 'display_data';\n",
              "          await google.colab.output.renderOutput(dataTable, element);\n",
              "          const docLink = document.createElement('div');\n",
              "          docLink.innerHTML = docLinkHtml;\n",
              "          element.appendChild(docLink);\n",
              "        }\n",
              "      </script>\n",
              "    </div>\n",
              "  </div>\n",
              "  "
            ]
          },
          "metadata": {},
          "execution_count": 5
        }
      ],
      "source": [
        "df.head(100)"
      ]
    },
    {
      "cell_type": "code",
      "execution_count": 7,
      "metadata": {
        "colab": {
          "base_uri": "https://localhost:8080/"
        },
        "id": "PitUWdgLeNso",
        "outputId": "ea00db01-f13b-422e-d269-676e5d229c65"
      },
      "outputs": [
        {
          "output_type": "stream",
          "name": "stdout",
          "text": [
            "55\n"
          ]
        }
      ],
      "source": [
        "print(df.isnull().sum().sum())\n",
        "df.dropna(inplace=True)\n",
        "\n"
      ]
    },
    {
      "cell_type": "code",
      "execution_count": 8,
      "metadata": {
        "id": "BWuqPs12L1Ad"
      },
      "outputs": [],
      "source": [
        "dupp=df[df.duplicated(keep=False)].shape[0]\n"
      ]
    },
    {
      "cell_type": "code",
      "execution_count": 9,
      "metadata": {
        "colab": {
          "base_uri": "https://localhost:8080/",
          "height": 520
        },
        "id": "dv4LJy1fK_HN",
        "outputId": "e1648b78-de8b-42db-8fe4-65561e830a14"
      },
      "outputs": [
        {
          "output_type": "execute_result",
          "data": {
            "text/plain": [
              "    LinkedIn Followers > 1000  Profile Picture  Responsive Website  \\\n",
              "0                           1              1.0                 1.0   \n",
              "1                           1              1.0                 1.0   \n",
              "2                           0              0.0                 1.0   \n",
              "3                           0              0.0                 1.0   \n",
              "4                           1              1.0                 1.0   \n",
              "..                        ...              ...                 ...   \n",
              "95                          0              1.0                 1.0   \n",
              "96                          0              1.0                 1.0   \n",
              "97                          0              1.0                 1.0   \n",
              "98                          0              1.0                 1.0   \n",
              "99                          0              1.0                 1.0   \n",
              "\n",
              "    Staff Count > 1000  Staff Premium Accounts  Summary Section  \\\n",
              "0                  0.0                     0.0              1.0   \n",
              "1                  0.0                     0.0              1.0   \n",
              "2                  0.0                     0.0              0.0   \n",
              "3                  0.0                     0.0              0.0   \n",
              "4                  1.0                     0.0              1.0   \n",
              "..                 ...                     ...              ...   \n",
              "95                 0.0                     0.0              1.0   \n",
              "96                 0.0                     0.0              1.0   \n",
              "97                 0.0                     0.0              0.0   \n",
              "98                 0.0                     0.0              1.0   \n",
              "99                 0.0                     0.0              1.0   \n",
              "\n",
              "    Verified Address  Published Articles  Requests Sensitive Info  \\\n",
              "0                0.0                 0.0                      0.0   \n",
              "1                0.0                 0.0                      0.0   \n",
              "2                0.0                 0.0                      0.0   \n",
              "3                0.0                 0.0                      0.0   \n",
              "4                0.0                 0.0                      0.0   \n",
              "..               ...                 ...                      ...   \n",
              "95               0.0                 0.0                      0.0   \n",
              "96               0.0                 0.0                      0.0   \n",
              "97               0.0                 0.0                      0.0   \n",
              "98               0.0                 0.0                      0.0   \n",
              "99               0.0                 0.0                      0.0   \n",
              "\n",
              "    Legitimate Email  LinkedIn Recommendations  Risk level  \n",
              "0                1.0                       0.0         2.0  \n",
              "1                1.0                       0.0         2.0  \n",
              "2                1.0                       0.0         5.0  \n",
              "3                1.0                       0.0         5.0  \n",
              "4                1.0                       0.0         1.0  \n",
              "..               ...                       ...         ...  \n",
              "95               1.0                       0.0         3.0  \n",
              "96               1.0                       0.0         3.0  \n",
              "97               1.0                       0.0         3.0  \n",
              "98               1.0                       0.0         3.0  \n",
              "99               1.0                       0.0         3.0  \n",
              "\n",
              "[100 rows x 12 columns]"
            ],
            "text/html": [
              "\n",
              "  <div id=\"df-85fca5ae-b2f9-4804-bf75-418b21406920\">\n",
              "    <div class=\"colab-df-container\">\n",
              "      <div>\n",
              "<style scoped>\n",
              "    .dataframe tbody tr th:only-of-type {\n",
              "        vertical-align: middle;\n",
              "    }\n",
              "\n",
              "    .dataframe tbody tr th {\n",
              "        vertical-align: top;\n",
              "    }\n",
              "\n",
              "    .dataframe thead th {\n",
              "        text-align: right;\n",
              "    }\n",
              "</style>\n",
              "<table border=\"1\" class=\"dataframe\">\n",
              "  <thead>\n",
              "    <tr style=\"text-align: right;\">\n",
              "      <th></th>\n",
              "      <th>LinkedIn Followers &gt; 1000</th>\n",
              "      <th>Profile Picture</th>\n",
              "      <th>Responsive Website</th>\n",
              "      <th>Staff Count &gt; 1000</th>\n",
              "      <th>Staff Premium Accounts</th>\n",
              "      <th>Summary Section</th>\n",
              "      <th>Verified Address</th>\n",
              "      <th>Published Articles</th>\n",
              "      <th>Requests Sensitive Info</th>\n",
              "      <th>Legitimate Email</th>\n",
              "      <th>LinkedIn Recommendations</th>\n",
              "      <th>Risk level</th>\n",
              "    </tr>\n",
              "  </thead>\n",
              "  <tbody>\n",
              "    <tr>\n",
              "      <th>0</th>\n",
              "      <td>1</td>\n",
              "      <td>1.0</td>\n",
              "      <td>1.0</td>\n",
              "      <td>0.0</td>\n",
              "      <td>0.0</td>\n",
              "      <td>1.0</td>\n",
              "      <td>0.0</td>\n",
              "      <td>0.0</td>\n",
              "      <td>0.0</td>\n",
              "      <td>1.0</td>\n",
              "      <td>0.0</td>\n",
              "      <td>2.0</td>\n",
              "    </tr>\n",
              "    <tr>\n",
              "      <th>1</th>\n",
              "      <td>1</td>\n",
              "      <td>1.0</td>\n",
              "      <td>1.0</td>\n",
              "      <td>0.0</td>\n",
              "      <td>0.0</td>\n",
              "      <td>1.0</td>\n",
              "      <td>0.0</td>\n",
              "      <td>0.0</td>\n",
              "      <td>0.0</td>\n",
              "      <td>1.0</td>\n",
              "      <td>0.0</td>\n",
              "      <td>2.0</td>\n",
              "    </tr>\n",
              "    <tr>\n",
              "      <th>2</th>\n",
              "      <td>0</td>\n",
              "      <td>0.0</td>\n",
              "      <td>1.0</td>\n",
              "      <td>0.0</td>\n",
              "      <td>0.0</td>\n",
              "      <td>0.0</td>\n",
              "      <td>0.0</td>\n",
              "      <td>0.0</td>\n",
              "      <td>0.0</td>\n",
              "      <td>1.0</td>\n",
              "      <td>0.0</td>\n",
              "      <td>5.0</td>\n",
              "    </tr>\n",
              "    <tr>\n",
              "      <th>3</th>\n",
              "      <td>0</td>\n",
              "      <td>0.0</td>\n",
              "      <td>1.0</td>\n",
              "      <td>0.0</td>\n",
              "      <td>0.0</td>\n",
              "      <td>0.0</td>\n",
              "      <td>0.0</td>\n",
              "      <td>0.0</td>\n",
              "      <td>0.0</td>\n",
              "      <td>1.0</td>\n",
              "      <td>0.0</td>\n",
              "      <td>5.0</td>\n",
              "    </tr>\n",
              "    <tr>\n",
              "      <th>4</th>\n",
              "      <td>1</td>\n",
              "      <td>1.0</td>\n",
              "      <td>1.0</td>\n",
              "      <td>1.0</td>\n",
              "      <td>0.0</td>\n",
              "      <td>1.0</td>\n",
              "      <td>0.0</td>\n",
              "      <td>0.0</td>\n",
              "      <td>0.0</td>\n",
              "      <td>1.0</td>\n",
              "      <td>0.0</td>\n",
              "      <td>1.0</td>\n",
              "    </tr>\n",
              "    <tr>\n",
              "      <th>...</th>\n",
              "      <td>...</td>\n",
              "      <td>...</td>\n",
              "      <td>...</td>\n",
              "      <td>...</td>\n",
              "      <td>...</td>\n",
              "      <td>...</td>\n",
              "      <td>...</td>\n",
              "      <td>...</td>\n",
              "      <td>...</td>\n",
              "      <td>...</td>\n",
              "      <td>...</td>\n",
              "      <td>...</td>\n",
              "    </tr>\n",
              "    <tr>\n",
              "      <th>95</th>\n",
              "      <td>0</td>\n",
              "      <td>1.0</td>\n",
              "      <td>1.0</td>\n",
              "      <td>0.0</td>\n",
              "      <td>0.0</td>\n",
              "      <td>1.0</td>\n",
              "      <td>0.0</td>\n",
              "      <td>0.0</td>\n",
              "      <td>0.0</td>\n",
              "      <td>1.0</td>\n",
              "      <td>0.0</td>\n",
              "      <td>3.0</td>\n",
              "    </tr>\n",
              "    <tr>\n",
              "      <th>96</th>\n",
              "      <td>0</td>\n",
              "      <td>1.0</td>\n",
              "      <td>1.0</td>\n",
              "      <td>0.0</td>\n",
              "      <td>0.0</td>\n",
              "      <td>1.0</td>\n",
              "      <td>0.0</td>\n",
              "      <td>0.0</td>\n",
              "      <td>0.0</td>\n",
              "      <td>1.0</td>\n",
              "      <td>0.0</td>\n",
              "      <td>3.0</td>\n",
              "    </tr>\n",
              "    <tr>\n",
              "      <th>97</th>\n",
              "      <td>0</td>\n",
              "      <td>1.0</td>\n",
              "      <td>1.0</td>\n",
              "      <td>0.0</td>\n",
              "      <td>0.0</td>\n",
              "      <td>0.0</td>\n",
              "      <td>0.0</td>\n",
              "      <td>0.0</td>\n",
              "      <td>0.0</td>\n",
              "      <td>1.0</td>\n",
              "      <td>0.0</td>\n",
              "      <td>3.0</td>\n",
              "    </tr>\n",
              "    <tr>\n",
              "      <th>98</th>\n",
              "      <td>0</td>\n",
              "      <td>1.0</td>\n",
              "      <td>1.0</td>\n",
              "      <td>0.0</td>\n",
              "      <td>0.0</td>\n",
              "      <td>1.0</td>\n",
              "      <td>0.0</td>\n",
              "      <td>0.0</td>\n",
              "      <td>0.0</td>\n",
              "      <td>1.0</td>\n",
              "      <td>0.0</td>\n",
              "      <td>3.0</td>\n",
              "    </tr>\n",
              "    <tr>\n",
              "      <th>99</th>\n",
              "      <td>0</td>\n",
              "      <td>1.0</td>\n",
              "      <td>1.0</td>\n",
              "      <td>0.0</td>\n",
              "      <td>0.0</td>\n",
              "      <td>1.0</td>\n",
              "      <td>0.0</td>\n",
              "      <td>0.0</td>\n",
              "      <td>0.0</td>\n",
              "      <td>1.0</td>\n",
              "      <td>0.0</td>\n",
              "      <td>3.0</td>\n",
              "    </tr>\n",
              "  </tbody>\n",
              "</table>\n",
              "<p>100 rows × 12 columns</p>\n",
              "</div>\n",
              "      <button class=\"colab-df-convert\" onclick=\"convertToInteractive('df-85fca5ae-b2f9-4804-bf75-418b21406920')\"\n",
              "              title=\"Convert this dataframe to an interactive table.\"\n",
              "              style=\"display:none;\">\n",
              "        \n",
              "  <svg xmlns=\"http://www.w3.org/2000/svg\" height=\"24px\"viewBox=\"0 0 24 24\"\n",
              "       width=\"24px\">\n",
              "    <path d=\"M0 0h24v24H0V0z\" fill=\"none\"/>\n",
              "    <path d=\"M18.56 5.44l.94 2.06.94-2.06 2.06-.94-2.06-.94-.94-2.06-.94 2.06-2.06.94zm-11 1L8.5 8.5l.94-2.06 2.06-.94-2.06-.94L8.5 2.5l-.94 2.06-2.06.94zm10 10l.94 2.06.94-2.06 2.06-.94-2.06-.94-.94-2.06-.94 2.06-2.06.94z\"/><path d=\"M17.41 7.96l-1.37-1.37c-.4-.4-.92-.59-1.43-.59-.52 0-1.04.2-1.43.59L10.3 9.45l-7.72 7.72c-.78.78-.78 2.05 0 2.83L4 21.41c.39.39.9.59 1.41.59.51 0 1.02-.2 1.41-.59l7.78-7.78 2.81-2.81c.8-.78.8-2.07 0-2.86zM5.41 20L4 18.59l7.72-7.72 1.47 1.35L5.41 20z\"/>\n",
              "  </svg>\n",
              "      </button>\n",
              "      \n",
              "  <style>\n",
              "    .colab-df-container {\n",
              "      display:flex;\n",
              "      flex-wrap:wrap;\n",
              "      gap: 12px;\n",
              "    }\n",
              "\n",
              "    .colab-df-convert {\n",
              "      background-color: #E8F0FE;\n",
              "      border: none;\n",
              "      border-radius: 50%;\n",
              "      cursor: pointer;\n",
              "      display: none;\n",
              "      fill: #1967D2;\n",
              "      height: 32px;\n",
              "      padding: 0 0 0 0;\n",
              "      width: 32px;\n",
              "    }\n",
              "\n",
              "    .colab-df-convert:hover {\n",
              "      background-color: #E2EBFA;\n",
              "      box-shadow: 0px 1px 2px rgba(60, 64, 67, 0.3), 0px 1px 3px 1px rgba(60, 64, 67, 0.15);\n",
              "      fill: #174EA6;\n",
              "    }\n",
              "\n",
              "    [theme=dark] .colab-df-convert {\n",
              "      background-color: #3B4455;\n",
              "      fill: #D2E3FC;\n",
              "    }\n",
              "\n",
              "    [theme=dark] .colab-df-convert:hover {\n",
              "      background-color: #434B5C;\n",
              "      box-shadow: 0px 1px 3px 1px rgba(0, 0, 0, 0.15);\n",
              "      filter: drop-shadow(0px 1px 2px rgba(0, 0, 0, 0.3));\n",
              "      fill: #FFFFFF;\n",
              "    }\n",
              "  </style>\n",
              "\n",
              "      <script>\n",
              "        const buttonEl =\n",
              "          document.querySelector('#df-85fca5ae-b2f9-4804-bf75-418b21406920 button.colab-df-convert');\n",
              "        buttonEl.style.display =\n",
              "          google.colab.kernel.accessAllowed ? 'block' : 'none';\n",
              "\n",
              "        async function convertToInteractive(key) {\n",
              "          const element = document.querySelector('#df-85fca5ae-b2f9-4804-bf75-418b21406920');\n",
              "          const dataTable =\n",
              "            await google.colab.kernel.invokeFunction('convertToInteractive',\n",
              "                                                     [key], {});\n",
              "          if (!dataTable) return;\n",
              "\n",
              "          const docLinkHtml = 'Like what you see? Visit the ' +\n",
              "            '<a target=\"_blank\" href=https://colab.research.google.com/notebooks/data_table.ipynb>data table notebook</a>'\n",
              "            + ' to learn more about interactive tables.';\n",
              "          element.innerHTML = '';\n",
              "          dataTable['output_type'] = 'display_data';\n",
              "          await google.colab.output.renderOutput(dataTable, element);\n",
              "          const docLink = document.createElement('div');\n",
              "          docLink.innerHTML = docLinkHtml;\n",
              "          element.appendChild(docLink);\n",
              "        }\n",
              "      </script>\n",
              "    </div>\n",
              "  </div>\n",
              "  "
            ]
          },
          "metadata": {},
          "execution_count": 9
        }
      ],
      "source": [
        "df.head(100)"
      ]
    },
    {
      "cell_type": "code",
      "execution_count": 10,
      "metadata": {
        "id": "T4T_SHjIgrPo"
      },
      "outputs": [],
      "source": [
        "Ros=df['Risk level']"
      ]
    },
    {
      "cell_type": "code",
      "execution_count": 11,
      "metadata": {
        "colab": {
          "base_uri": "https://localhost:8080/",
          "height": 501
        },
        "id": "yz5c1v3ThU_G",
        "outputId": "e7f565cd-67b2-43d5-a63c-6f6a841ca0d6"
      },
      "outputs": [
        {
          "output_type": "display_data",
          "data": {
            "text/plain": [
              "<Figure size 2600x3000 with 12 Axes>"
            ],
            "image/png": "[encoded data removed]"
          },
          "metadata": {}
        }
      ],
      "source": [
        "#For all columns doing countplots\n",
        "fig = plt.figure(figsize=(26,30))\n",
        "for idx,i in enumerate(df.columns.tolist()):\n",
        "    ax=plt.subplot(8,4,idx+1)\n",
        "    sns.countplot(x=i,data=df,ax=ax)\n",
        "plt.show()"
      ]
    },
    {
      "cell_type": "code",
      "source": [
        "#For all columns doing countplots\n",
        "fig = plt.figure(figsize=(26,30))\n",
        "ax=plt.subplot(8,4,6)\n",
        "sns.countplot(x=i,data=df,ax=ax)\n",
        "\n",
        "#plt.legend(loc='upper right', labels=['Risk 0', 'Risk 1','Risk2','Risk3','Risk4','Risk5'])\n",
        "plt.show()"
      ],
      "metadata": {
        "colab": {
          "base_uri": "https://localhost:8080/",
          "height": 326
        },
        "id": "xXWTZERlDcT6",
        "outputId": "20ecf8b2-7a41-4f78-f66e-7995cc02fa75"
      },
      "execution_count": 12,
      "outputs": [
        {
          "output_type": "display_data",
          "data": {
            "text/plain": [
              "<Figure size 2600x3000 with 1 Axes>"
            ],
            "image/png": "[encoded data removed]"
          },
          "metadata": {}
        }
      ]
    },
    {
      "cell_type": "code",
      "source": [
        "from matplotlib.patches import Patch\n",
        "import matplotlib.patches as mpatches\n",
        "\n",
        "Ros = df['Risk level'].value_counts()\n",
        "s = df['Risk level'].value_counts().rename_axis('Risk level').rename('count') # if x- and y-labels are important\n",
        "sns.barplot(x=s.index, y=s.values)\n",
        "legend_labels = [\n",
        "    mpatches.Patch(color=sns.color_palette()[0], label='Risk 0'),\n",
        "    mpatches.Patch(color=sns.color_palette()[1], label='Risk 1'),\n",
        "        mpatches.Patch(color=sns.color_palette()[2], label='Risk 2'),\n",
        "    mpatches.Patch(color=sns.color_palette()[3], label='Risk 3'),\n",
        "        mpatches.Patch(color=sns.color_palette()[4], label='Risk 4'),\n",
        "    mpatches.Patch(color=sns.color_palette()[5], label='Risk 5 ')\n",
        "]\n",
        "plt.legend( handles=legend_labels, loc=\"upper right\")\n",
        "#plt.legend(title=\"Risk Level frequency\",labels = ['type 1', 'type 2','type 3', 'type 4','type 5', 'type 6'])"
      ],
      "metadata": {
        "colab": {
          "base_uri": "https://localhost:8080/",
          "height": 467
        },
        "id": "BcipN1tpH5Sr",
        "outputId": "f617dd09-ebf1-44a3-903e-da2507cd3fa9"
      },
      "execution_count": 13,
      "outputs": [
        {
          "output_type": "execute_result",
          "data": {
            "text/plain": [
              "<matplotlib.legend.Legend at 0x7f5188099990>"
            ]
          },
          "metadata": {},
          "execution_count": 13
        },
        {
          "output_type": "display_data",
          "data": {
            "text/plain": [
              "<Figure size 640x480 with 1 Axes>"
            ],
            "image/png": "[encoded data removed]"
          },
          "metadata": {}
        }
      ]
    },
    {
      "cell_type": "code",
      "execution_count": 14,
      "metadata": {
        "colab": {
          "base_uri": "https://localhost:8080/",
          "height": 800
        },
        "id": "irPk8CFhhfmp",
        "outputId": "8ec09bf5-4950-46b7-a4dd-073d3e19a074"
      },
      "outputs": [
        {
          "output_type": "execute_result",
          "data": {
            "text/plain": [
              "<Axes: >"
            ]
          },
          "metadata": {},
          "execution_count": 14
        },
        {
          "output_type": "display_data",
          "data": {
            "text/plain": [
              "<Figure size 1000x700 with 2 Axes>"
            ],
            "image/png": "[encoded data removed]"
          },
          "metadata": {}
        }
      ],
      "source": [
        "fig, ax = plt.subplots(figsize=(10,7))         # Sample figsize in inches\n",
        "\n",
        "sns.heatmap(df.corr(),cmap='YlOrRd',linewidths=.5,ax=ax)"
      ]
    },
    {
      "cell_type": "code",
      "execution_count": 15,
      "metadata": {
        "id": "8NktAEBqJQyd"
      },
      "outputs": [],
      "source": [
        "\n",
        "\n",
        "X = df.iloc[:,:-1].values\n",
        "# Now let's tell the dataframe which column we want for the target/labels.  \n",
        "y = df['Risk level']"
      ]
    },
    {
      "cell_type": "code",
      "execution_count": 16,
      "metadata": {
        "id": "aqnysrSFilCg"
      },
      "outputs": [],
      "source": [
        "\n",
        "X=df.iloc[:,:-1]"
      ]
    },
    {
      "cell_type": "code",
      "execution_count": 17,
      "metadata": {
        "colab": {
          "base_uri": "https://localhost:8080/",
          "height": 611
        },
        "id": "NCUewloGhqGT",
        "outputId": "77bffeb8-118b-4f53-fb68-f03ec8dffb4a"
      },
      "outputs": [
        {
          "output_type": "execute_result",
          "data": {
            "text/plain": [
              "                           LinkedIn Followers > 1000  Profile Picture  \\\n",
              "LinkedIn Followers > 1000                   1.000000        -0.006570   \n",
              "Profile Picture                            -0.006570         1.000000   \n",
              "Responsive Website                          0.054126         0.686001   \n",
              "Staff Count > 1000                          0.793578         0.014142   \n",
              "Staff Premium Accounts                      0.747374         0.144507   \n",
              "Summary Section                             0.313334         0.572614   \n",
              "Verified Address                            0.668927         0.245497   \n",
              "Published Articles                          0.709564         0.349873   \n",
              "Requests Sensitive Info                     0.244319         0.104754   \n",
              "Legitimate Email                            0.202202         0.491095   \n",
              "LinkedIn Recommendations                    0.735220         0.314095   \n",
              "Risk level                                 -0.861561        -0.020213   \n",
              "\n",
              "                           Responsive Website  Staff Count > 1000  \\\n",
              "LinkedIn Followers > 1000            0.054126            0.793578   \n",
              "Profile Picture                      0.686001            0.014142   \n",
              "Responsive Website                   1.000000            0.031208   \n",
              "Staff Count > 1000                   0.031208            1.000000   \n",
              "Staff Premium Accounts               0.134388            0.699216   \n",
              "Summary Section                      0.543781            0.349048   \n",
              "Verified Address                     0.256828            0.665292   \n",
              "Published Articles                   0.361358            0.670761   \n",
              "Requests Sensitive Info              0.174628            0.206682   \n",
              "Legitimate Email                     0.494023            0.233445   \n",
              "LinkedIn Recommendations             0.325424            0.670236   \n",
              "Risk level                          -0.073946           -0.779804   \n",
              "\n",
              "                           Staff Premium Accounts  Summary Section  \\\n",
              "LinkedIn Followers > 1000                0.747374         0.313334   \n",
              "Profile Picture                          0.144507         0.572614   \n",
              "Responsive Website                       0.134388         0.543781   \n",
              "Staff Count > 1000                       0.699216         0.349048   \n",
              "Staff Premium Accounts                   1.000000         0.344035   \n",
              "Summary Section                          0.344035         1.000000   \n",
              "Verified Address                         0.677769         0.386925   \n",
              "Published Articles                       0.759675         0.491999   \n",
              "Requests Sensitive Info                  0.161851         0.142574   \n",
              "Legitimate Email                         0.279734         0.401582   \n",
              "LinkedIn Recommendations                 0.756686         0.469189   \n",
              "Risk level                              -0.709762        -0.384346   \n",
              "\n",
              "                           Verified Address  Published Articles  \\\n",
              "LinkedIn Followers > 1000          0.668927            0.709564   \n",
              "Profile Picture                    0.245497            0.349873   \n",
              "Responsive Website                 0.256828            0.361358   \n",
              "Staff Count > 1000                 0.665292            0.670761   \n",
              "Staff Premium Accounts             0.677769            0.759675   \n",
              "Summary Section                    0.386925            0.491999   \n",
              "Verified Address                   1.000000            0.701321   \n",
              "Published Articles                 0.701321            1.000000   \n",
              "Requests Sensitive Info            0.300090            0.220766   \n",
              "Legitimate Email                   0.335953            0.347506   \n",
              "LinkedIn Recommendations           0.719912            0.854075   \n",
              "Risk level                        -0.647593           -0.674993   \n",
              "\n",
              "                           Requests Sensitive Info  Legitimate Email  \\\n",
              "LinkedIn Followers > 1000                 0.244319          0.202202   \n",
              "Profile Picture                           0.104754          0.491095   \n",
              "Responsive Website                        0.174628          0.494023   \n",
              "Staff Count > 1000                        0.206682          0.233445   \n",
              "Staff Premium Accounts                    0.161851          0.279734   \n",
              "Summary Section                           0.142574          0.401582   \n",
              "Verified Address                          0.300090          0.335953   \n",
              "Published Articles                        0.220766          0.347506   \n",
              "Requests Sensitive Info                   1.000000          0.091544   \n",
              "Legitimate Email                          0.091544          1.000000   \n",
              "LinkedIn Recommendations                  0.268085          0.322735   \n",
              "Risk level                               -0.271972         -0.224984   \n",
              "\n",
              "                           LinkedIn Recommendations  Risk level  \n",
              "LinkedIn Followers > 1000                  0.735220   -0.861561  \n",
              "Profile Picture                            0.314095   -0.020213  \n",
              "Responsive Website                         0.325424   -0.073946  \n",
              "Staff Count > 1000                         0.670236   -0.779804  \n",
              "Staff Premium Accounts                     0.756686   -0.709762  \n",
              "Summary Section                            0.469189   -0.384346  \n",
              "Verified Address                           0.719912   -0.647593  \n",
              "Published Articles                         0.854075   -0.674993  \n",
              "Requests Sensitive Info                    0.268085   -0.271972  \n",
              "Legitimate Email                           0.322735   -0.224984  \n",
              "LinkedIn Recommendations                   1.000000   -0.693138  \n",
              "Risk level                                -0.693138    1.000000  "
            ],
            "text/html": [
              "\n",
              "  <div id=\"df-63d2fbef-a2af-4353-9e57-9e61f2532658\">\n",
              "    <div class=\"colab-df-container\">\n",
              "      <div>\n",
              "<style scoped>\n",
              "    .dataframe tbody tr th:only-of-type {\n",
              "        vertical-align: middle;\n",
              "    }\n",
              "\n",
              "    .dataframe tbody tr th {\n",
              "        vertical-align: top;\n",
              "    }\n",
              "\n",
              "    .dataframe thead th {\n",
              "        text-align: right;\n",
              "    }\n",
              "</style>\n",
              "<table border=\"1\" class=\"dataframe\">\n",
              "  <thead>\n",
              "    <tr style=\"text-align: right;\">\n",
              "      <th></th>\n",
              "      <th>LinkedIn Followers &gt; 1000</th>\n",
              "      <th>Profile Picture</th>\n",
              "      <th>Responsive Website</th>\n",
              "      <th>Staff Count &gt; 1000</th>\n",
              "      <th>Staff Premium Accounts</th>\n",
              "      <th>Summary Section</th>\n",
              "      <th>Verified Address</th>\n",
              "      <th>Published Articles</th>\n",
              "      <th>Requests Sensitive Info</th>\n",
              "      <th>Legitimate Email</th>\n",
              "      <th>LinkedIn Recommendations</th>\n",
              "      <th>Risk level</th>\n",
              "    </tr>\n",
              "  </thead>\n",
              "  <tbody>\n",
              "    <tr>\n",
              "      <th>LinkedIn Followers &gt; 1000</th>\n",
              "      <td>1.000000</td>\n",
              "      <td>-0.006570</td>\n",
              "      <td>0.054126</td>\n",
              "      <td>0.793578</td>\n",
              "      <td>0.747374</td>\n",
              "      <td>0.313334</td>\n",
              "      <td>0.668927</td>\n",
              "      <td>0.709564</td>\n",
              "      <td>0.244319</td>\n",
              "      <td>0.202202</td>\n",
              "      <td>0.735220</td>\n",
              "      <td>-0.861561</td>\n",
              "    </tr>\n",
              "    <tr>\n",
              "      <th>Profile Picture</th>\n",
              "      <td>-0.006570</td>\n",
              "      <td>1.000000</td>\n",
              "      <td>0.686001</td>\n",
              "      <td>0.014142</td>\n",
              "      <td>0.144507</td>\n",
              "      <td>0.572614</td>\n",
              "      <td>0.245497</td>\n",
              "      <td>0.349873</td>\n",
              "      <td>0.104754</td>\n",
              "      <td>0.491095</td>\n",
              "      <td>0.314095</td>\n",
              "      <td>-0.020213</td>\n",
              "    </tr>\n",
              "    <tr>\n",
              "      <th>Responsive Website</th>\n",
              "      <td>0.054126</td>\n",
              "      <td>0.686001</td>\n",
              "      <td>1.000000</td>\n",
              "      <td>0.031208</td>\n",
              "      <td>0.134388</td>\n",
              "      <td>0.543781</td>\n",
              "      <td>0.256828</td>\n",
              "      <td>0.361358</td>\n",
              "      <td>0.174628</td>\n",
              "      <td>0.494023</td>\n",
              "      <td>0.325424</td>\n",
              "      <td>-0.073946</td>\n",
              "    </tr>\n",
              "    <tr>\n",
              "      <th>Staff Count &gt; 1000</th>\n",
              "      <td>0.793578</td>\n",
              "      <td>0.014142</td>\n",
              "      <td>0.031208</td>\n",
              "      <td>1.000000</td>\n",
              "      <td>0.699216</td>\n",
              "      <td>0.349048</td>\n",
              "      <td>0.665292</td>\n",
              "      <td>0.670761</td>\n",
              "      <td>0.206682</td>\n",
              "      <td>0.233445</td>\n",
              "      <td>0.670236</td>\n",
              "      <td>-0.779804</td>\n",
              "    </tr>\n",
              "    <tr>\n",
              "      <th>Staff Premium Accounts</th>\n",
              "      <td>0.747374</td>\n",
              "      <td>0.144507</td>\n",
              "      <td>0.134388</td>\n",
              "      <td>0.699216</td>\n",
              "      <td>1.000000</td>\n",
              "      <td>0.344035</td>\n",
              "      <td>0.677769</td>\n",
              "      <td>0.759675</td>\n",
              "      <td>0.161851</td>\n",
              "      <td>0.279734</td>\n",
              "      <td>0.756686</td>\n",
              "      <td>-0.709762</td>\n",
              "    </tr>\n",
              "    <tr>\n",
              "      <th>Summary Section</th>\n",
              "      <td>0.313334</td>\n",
              "      <td>0.572614</td>\n",
              "      <td>0.543781</td>\n",
              "      <td>0.349048</td>\n",
              "      <td>0.344035</td>\n",
              "      <td>1.000000</td>\n",
              "      <td>0.386925</td>\n",
              "      <td>0.491999</td>\n",
              "      <td>0.142574</td>\n",
              "      <td>0.401582</td>\n",
              "      <td>0.469189</td>\n",
              "      <td>-0.384346</td>\n",
              "    </tr>\n",
              "    <tr>\n",
              "      <th>Verified Address</th>\n",
              "      <td>0.668927</td>\n",
              "      <td>0.245497</td>\n",
              "      <td>0.256828</td>\n",
              "      <td>0.665292</td>\n",
              "      <td>0.677769</td>\n",
              "      <td>0.386925</td>\n",
              "      <td>1.000000</td>\n",
              "      <td>0.701321</td>\n",
              "      <td>0.300090</td>\n",
              "      <td>0.335953</td>\n",
              "      <td>0.719912</td>\n",
              "      <td>-0.647593</td>\n",
              "    </tr>\n",
              "    <tr>\n",
              "      <th>Published Articles</th>\n",
              "      <td>0.709564</td>\n",
              "      <td>0.349873</td>\n",
              "      <td>0.361358</td>\n",
              "      <td>0.670761</td>\n",
              "      <td>0.759675</td>\n",
              "      <td>0.491999</td>\n",
              "      <td>0.701321</td>\n",
              "      <td>1.000000</td>\n",
              "      <td>0.220766</td>\n",
              "      <td>0.347506</td>\n",
              "      <td>0.854075</td>\n",
              "      <td>-0.674993</td>\n",
              "    </tr>\n",
              "    <tr>\n",
              "      <th>Requests Sensitive Info</th>\n",
              "      <td>0.244319</td>\n",
              "      <td>0.104754</td>\n",
              "      <td>0.174628</td>\n",
              "      <td>0.206682</td>\n",
              "      <td>0.161851</td>\n",
              "      <td>0.142574</td>\n",
              "      <td>0.300090</td>\n",
              "      <td>0.220766</td>\n",
              "      <td>1.000000</td>\n",
              "      <td>0.091544</td>\n",
              "      <td>0.268085</td>\n",
              "      <td>-0.271972</td>\n",
              "    </tr>\n",
              "    <tr>\n",
              "      <th>Legitimate Email</th>\n",
              "      <td>0.202202</td>\n",
              "      <td>0.491095</td>\n",
              "      <td>0.494023</td>\n",
              "      <td>0.233445</td>\n",
              "      <td>0.279734</td>\n",
              "      <td>0.401582</td>\n",
              "      <td>0.335953</td>\n",
              "      <td>0.347506</td>\n",
              "      <td>0.091544</td>\n",
              "      <td>1.000000</td>\n",
              "      <td>0.322735</td>\n",
              "      <td>-0.224984</td>\n",
              "    </tr>\n",
              "    <tr>\n",
              "      <th>LinkedIn Recommendations</th>\n",
              "      <td>0.735220</td>\n",
              "      <td>0.314095</td>\n",
              "      <td>0.325424</td>\n",
              "      <td>0.670236</td>\n",
              "      <td>0.756686</td>\n",
              "      <td>0.469189</td>\n",
              "      <td>0.719912</td>\n",
              "      <td>0.854075</td>\n",
              "      <td>0.268085</td>\n",
              "      <td>0.322735</td>\n",
              "      <td>1.000000</td>\n",
              "      <td>-0.693138</td>\n",
              "    </tr>\n",
              "    <tr>\n",
              "      <th>Risk level</th>\n",
              "      <td>-0.861561</td>\n",
              "      <td>-0.020213</td>\n",
              "      <td>-0.073946</td>\n",
              "      <td>-0.779804</td>\n",
              "      <td>-0.709762</td>\n",
              "      <td>-0.384346</td>\n",
              "      <td>-0.647593</td>\n",
              "      <td>-0.674993</td>\n",
              "      <td>-0.271972</td>\n",
              "      <td>-0.224984</td>\n",
              "      <td>-0.693138</td>\n",
              "      <td>1.000000</td>\n",
              "    </tr>\n",
              "  </tbody>\n",
              "</table>\n",
              "</div>\n",
              "      <button class=\"colab-df-convert\" onclick=\"convertToInteractive('df-63d2fbef-a2af-4353-9e57-9e61f2532658')\"\n",
              "              title=\"Convert this dataframe to an interactive table.\"\n",
              "              style=\"display:none;\">\n",
              "        \n",
              "  <svg xmlns=\"http://www.w3.org/2000/svg\" height=\"24px\"viewBox=\"0 0 24 24\"\n",
              "       width=\"24px\">\n",
              "    <path d=\"M0 0h24v24H0V0z\" fill=\"none\"/>\n",
              "    <path d=\"M18.56 5.44l.94 2.06.94-2.06 2.06-.94-2.06-.94-.94-2.06-.94 2.06-2.06.94zm-11 1L8.5 8.5l.94-2.06 2.06-.94-2.06-.94L8.5 2.5l-.94 2.06-2.06.94zm10 10l.94 2.06.94-2.06 2.06-.94-2.06-.94-.94-2.06-.94 2.06-2.06.94z\"/><path d=\"M17.41 7.96l-1.37-1.37c-.4-.4-.92-.59-1.43-.59-.52 0-1.04.2-1.43.59L10.3 9.45l-7.72 7.72c-.78.78-.78 2.05 0 2.83L4 21.41c.39.39.9.59 1.41.59.51 0 1.02-.2 1.41-.59l7.78-7.78 2.81-2.81c.8-.78.8-2.07 0-2.86zM5.41 20L4 18.59l7.72-7.72 1.47 1.35L5.41 20z\"/>\n",
              "  </svg>\n",
              "      </button>\n",
              "      \n",
              "  <style>\n",
              "    .colab-df-container {\n",
              "      display:flex;\n",
              "      flex-wrap:wrap;\n",
              "      gap: 12px;\n",
              "    }\n",
              "\n",
              "    .colab-df-convert {\n",
              "      background-color: #E8F0FE;\n",
              "      border: none;\n",
              "      border-radius: 50%;\n",
              "      cursor: pointer;\n",
              "      display: none;\n",
              "      fill: #1967D2;\n",
              "      height: 32px;\n",
              "      padding: 0 0 0 0;\n",
              "      width: 32px;\n",
              "    }\n",
              "\n",
              "    .colab-df-convert:hover {\n",
              "      background-color: #E2EBFA;\n",
              "      box-shadow: 0px 1px 2px rgba(60, 64, 67, 0.3), 0px 1px 3px 1px rgba(60, 64, 67, 0.15);\n",
              "      fill: #174EA6;\n",
              "    }\n",
              "\n",
              "    [theme=dark] .colab-df-convert {\n",
              "      background-color: #3B4455;\n",
              "      fill: #D2E3FC;\n",
              "    }\n",
              "\n",
              "    [theme=dark] .colab-df-convert:hover {\n",
              "      background-color: #434B5C;\n",
              "      box-shadow: 0px 1px 3px 1px rgba(0, 0, 0, 0.15);\n",
              "      filter: drop-shadow(0px 1px 2px rgba(0, 0, 0, 0.3));\n",
              "      fill: #FFFFFF;\n",
              "    }\n",
              "  </style>\n",
              "\n",
              "      <script>\n",
              "        const buttonEl =\n",
              "          document.querySelector('#df-63d2fbef-a2af-4353-9e57-9e61f2532658 button.colab-df-convert');\n",
              "        buttonEl.style.display =\n",
              "          google.colab.kernel.accessAllowed ? 'block' : 'none';\n",
              "\n",
              "        async function convertToInteractive(key) {\n",
              "          const element = document.querySelector('#df-63d2fbef-a2af-4353-9e57-9e61f2532658');\n",
              "          const dataTable =\n",
              "            await google.colab.kernel.invokeFunction('convertToInteractive',\n",
              "                                                     [key], {});\n",
              "          if (!dataTable) return;\n",
              "\n",
              "          const docLinkHtml = 'Like what you see? Visit the ' +\n",
              "            '<a target=\"_blank\" href=https://colab.research.google.com/notebooks/data_table.ipynb>data table notebook</a>'\n",
              "            + ' to learn more about interactive tables.';\n",
              "          element.innerHTML = '';\n",
              "          dataTable['output_type'] = 'display_data';\n",
              "          await google.colab.output.renderOutput(dataTable, element);\n",
              "          const docLink = document.createElement('div');\n",
              "          docLink.innerHTML = docLinkHtml;\n",
              "          element.appendChild(docLink);\n",
              "        }\n",
              "      </script>\n",
              "    </div>\n",
              "  </div>\n",
              "  "
            ]
          },
          "metadata": {},
          "execution_count": 17
        }
      ],
      "source": [
        "df.corr()"
      ]
    },
    {
      "cell_type": "code",
      "execution_count": 18,
      "metadata": {
        "colab": {
          "base_uri": "https://localhost:8080/"
        },
        "id": "LzYQ69hhexy0",
        "outputId": "e56ad557-2bdc-429e-b103-f32c634fe3dc"
      },
      "outputs": [
        {
          "output_type": "execute_result",
          "data": {
            "text/plain": [
              "0      2.0\n",
              "1      2.0\n",
              "2      5.0\n",
              "3      5.0\n",
              "4      1.0\n",
              "      ... \n",
              "794    0.0\n",
              "795    0.0\n",
              "796    0.0\n",
              "797    0.0\n",
              "798    0.0\n",
              "Name: Risk level, Length: 781, dtype: float64"
            ]
          },
          "metadata": {},
          "execution_count": 18
        }
      ],
      "source": [
        "y"
      ]
    },
    {
      "cell_type": "code",
      "execution_count": 19,
      "metadata": {
        "id": "zt24nx5VP_mP"
      },
      "outputs": [],
      "source": [
        "X_train, X_test, y_train, y_test = train_test_split(X, y, test_size=0.3, random_state=27)\n"
      ]
    },
    {
      "cell_type": "code",
      "execution_count": 20,
      "metadata": {
        "colab": {
          "base_uri": "https://localhost:8080/"
        },
        "id": "wbW56pLkQPt7",
        "outputId": "c8afe387-4e4f-41e4-ef1c-858999f94349"
      },
      "outputs": [
        {
          "output_type": "execute_result",
          "data": {
            "text/plain": [
              "(546, 11)"
            ]
          },
          "metadata": {},
          "execution_count": 20
        }
      ],
      "source": [
        "X_train.shape"
      ]
    },
    {
      "cell_type": "code",
      "execution_count": 21,
      "metadata": {
        "id": "joI9NbFfQ3ol"
      },
      "outputs": [],
      "source": [
        "SVC_model = SVC()\n",
        "# KNN model requires you to specify n_neighbors,\n",
        "# the number of points the classifier will look at to determine what class a new point belongs to\n",
        "KNN_model = KNeighborsClassifier(n_neighbors=5)\n"
      ]
    },
    {
      "cell_type": "code",
      "execution_count": 22,
      "metadata": {
        "colab": {
          "base_uri": "https://localhost:8080/",
          "height": 75
        },
        "id": "OGDsikc4PI6W",
        "outputId": "54e3c694-f50a-4cee-a91c-1c67bcfd77c0"
      },
      "outputs": [
        {
          "output_type": "execute_result",
          "data": {
            "text/plain": [
              "LogisticRegression()"
            ],
            "text/html": [
              "<style>#sk-container-id-1 {color: black;background-color: white;}#sk-container-id-1 pre{padding: 0;}#sk-container-id-1 div.sk-toggleable {background-color: white;}#sk-container-id-1 label.sk-toggleable__label {cursor: pointer;display: block;width: 100%;margin-bottom: 0;padding: 0.3em;box-sizing: border-box;text-align: center;}#sk-container-id-1 label.sk-toggleable__label-arrow:before {content: \"▸\";float: left;margin-right: 0.25em;color: #696969;}#sk-container-id-1 label.sk-toggleable__label-arrow:hover:before {color: black;}#sk-container-id-1 div.sk-estimator:hover label.sk-toggleable__label-arrow:before {color: black;}#sk-container-id-1 div.sk-toggleable__content {max-height: 0;max-width: 0;overflow: hidden;text-align: left;background-color: #f0f8ff;}#sk-container-id-1 div.sk-toggleable__content pre {margin: 0.2em;color: black;border-radius: 0.25em;background-color: #f0f8ff;}#sk-container-id-1 input.sk-toggleable__control:checked~div.sk-toggleable__content {max-height: 200px;max-width: 100%;overflow: auto;}#sk-container-id-1 input.sk-toggleable__control:checked~label.sk-toggleable__label-arrow:before {content: \"▾\";}#sk-container-id-1 div.sk-estimator input.sk-toggleable__control:checked~label.sk-toggleable__label {background-color: #d4ebff;}#sk-container-id-1 div.sk-label input.sk-toggleable__control:checked~label.sk-toggleable__label {background-color: #d4ebff;}#sk-container-id-1 input.sk-hidden--visually {border: 0;clip: rect(1px 1px 1px 1px);clip: rect(1px, 1px, 1px, 1px);height: 1px;margin: -1px;overflow: hidden;padding: 0;position: absolute;width: 1px;}#sk-container-id-1 div.sk-estimator {font-family: monospace;background-color: #f0f8ff;border: 1px dotted black;border-radius: 0.25em;box-sizing: border-box;margin-bottom: 0.5em;}#sk-container-id-1 div.sk-estimator:hover {background-color: #d4ebff;}#sk-container-id-1 div.sk-parallel-item::after {content: \"\";width: 100%;border-bottom: 1px solid gray;flex-grow: 1;}#sk-container-id-1 div.sk-label:hover label.sk-toggleable__label {background-color: #d4ebff;}#sk-container-id-1 div.sk-serial::before {content: \"\";position: absolute;border-left: 1px solid gray;box-sizing: border-box;top: 0;bottom: 0;left: 50%;z-index: 0;}#sk-container-id-1 div.sk-serial {display: flex;flex-direction: column;align-items: center;background-color: white;padding-right: 0.2em;padding-left: 0.2em;position: relative;}#sk-container-id-1 div.sk-item {position: relative;z-index: 1;}#sk-container-id-1 div.sk-parallel {display: flex;align-items: stretch;justify-content: center;background-color: white;position: relative;}#sk-container-id-1 div.sk-item::before, #sk-container-id-1 div.sk-parallel-item::before {content: \"\";position: absolute;border-left: 1px solid gray;box-sizing: border-box;top: 0;bottom: 0;left: 50%;z-index: -1;}#sk-container-id-1 div.sk-parallel-item {display: flex;flex-direction: column;z-index: 1;position: relative;background-color: white;}#sk-container-id-1 div.sk-parallel-item:first-child::after {align-self: flex-end;width: 50%;}#sk-container-id-1 div.sk-parallel-item:last-child::after {align-self: flex-start;width: 50%;}#sk-container-id-1 div.sk-parallel-item:only-child::after {width: 0;}#sk-container-id-1 div.sk-dashed-wrapped {border: 1px dashed gray;margin: 0 0.4em 0.5em 0.4em;box-sizing: border-box;padding-bottom: 0.4em;background-color: white;}#sk-container-id-1 div.sk-label label {font-family: monospace;font-weight: bold;display: inline-block;line-height: 1.2em;}#sk-container-id-1 div.sk-label-container {text-align: center;}#sk-container-id-1 div.sk-container {/* jupyter's `normalize.less` sets `[hidden] { display: none; }` but bootstrap.min.css set `[hidden] { display: none !important; }` so we also need the `!important` here to be able to override the default hidden behavior on the sphinx rendered scikit-learn.org. See: https://github.com/scikit-learn/scikit-learn/issues/21755 */display: inline-block !important;position: relative;}#sk-container-id-1 div.sk-text-repr-fallback {display: none;}</style><div id=\"sk-container-id-1\" class=\"sk-top-container\"><div class=\"sk-text-repr-fallback\"><pre>LogisticRegression()</pre><b>In a Jupyter environment, please rerun this cell to show the HTML representation or trust the notebook. <br />On GitHub, the HTML representation is unable to render, please try loading this page with nbviewer.org.</b></div><div class=\"sk-container\" hidden><div class=\"sk-item\"><div class=\"sk-estimator sk-toggleable\"><input class=\"sk-toggleable__control sk-hidden--visually\" id=\"sk-estimator-id-1\" type=\"checkbox\" checked><label for=\"sk-estimator-id-1\" class=\"sk-toggleable__label sk-toggleable__label-arrow\">LogisticRegression</label><div class=\"sk-toggleable__content\"><pre>LogisticRegression()</pre></div></div></div></div></div>"
            ]
          },
          "metadata": {},
          "execution_count": 22
        }
      ],
      "source": [
        "classifier = LogisticRegression()\n",
        "classifier.fit(X_train, y_train)"
      ]
    },
    {
      "cell_type": "code",
      "execution_count": 23,
      "metadata": {
        "colab": {
          "base_uri": "https://localhost:8080/",
          "height": 75
        },
        "id": "qSH2psdWRFZo",
        "outputId": "9875388c-674c-4840-d4da-30787abcdb67"
      },
      "outputs": [
        {
          "output_type": "execute_result",
          "data": {
            "text/plain": [
              "KNeighborsClassifier()"
            ],
            "text/html": [
              "<style>#sk-container-id-2 {color: black;background-color: white;}#sk-container-id-2 pre{padding: 0;}#sk-container-id-2 div.sk-toggleable {background-color: white;}#sk-container-id-2 label.sk-toggleable__label {cursor: pointer;display: block;width: 100%;margin-bottom: 0;padding: 0.3em;box-sizing: border-box;text-align: center;}#sk-container-id-2 label.sk-toggleable__label-arrow:before {content: \"▸\";float: left;margin-right: 0.25em;color: #696969;}#sk-container-id-2 label.sk-toggleable__label-arrow:hover:before {color: black;}#sk-container-id-2 div.sk-estimator:hover label.sk-toggleable__label-arrow:before {color: black;}#sk-container-id-2 div.sk-toggleable__content {max-height: 0;max-width: 0;overflow: hidden;text-align: left;background-color: #f0f8ff;}#sk-container-id-2 div.sk-toggleable__content pre {margin: 0.2em;color: black;border-radius: 0.25em;background-color: #f0f8ff;}#sk-container-id-2 input.sk-toggleable__control:checked~div.sk-toggleable__content {max-height: 200px;max-width: 100%;overflow: auto;}#sk-container-id-2 input.sk-toggleable__control:checked~label.sk-toggleable__label-arrow:before {content: \"▾\";}#sk-container-id-2 div.sk-estimator input.sk-toggleable__control:checked~label.sk-toggleable__label {background-color: #d4ebff;}#sk-container-id-2 div.sk-label input.sk-toggleable__control:checked~label.sk-toggleable__label {background-color: #d4ebff;}#sk-container-id-2 input.sk-hidden--visually {border: 0;clip: rect(1px 1px 1px 1px);clip: rect(1px, 1px, 1px, 1px);height: 1px;margin: -1px;overflow: hidden;padding: 0;position: absolute;width: 1px;}#sk-container-id-2 div.sk-estimator {font-family: monospace;background-color: #f0f8ff;border: 1px dotted black;border-radius: 0.25em;box-sizing: border-box;margin-bottom: 0.5em;}#sk-container-id-2 div.sk-estimator:hover {background-color: #d4ebff;}#sk-container-id-2 div.sk-parallel-item::after {content: \"\";width: 100%;border-bottom: 1px solid gray;flex-grow: 1;}#sk-container-id-2 div.sk-label:hover label.sk-toggleable__label {background-color: #d4ebff;}#sk-container-id-2 div.sk-serial::before {content: \"\";position: absolute;border-left: 1px solid gray;box-sizing: border-box;top: 0;bottom: 0;left: 50%;z-index: 0;}#sk-container-id-2 div.sk-serial {display: flex;flex-direction: column;align-items: center;background-color: white;padding-right: 0.2em;padding-left: 0.2em;position: relative;}#sk-container-id-2 div.sk-item {position: relative;z-index: 1;}#sk-container-id-2 div.sk-parallel {display: flex;align-items: stretch;justify-content: center;background-color: white;position: relative;}#sk-container-id-2 div.sk-item::before, #sk-container-id-2 div.sk-parallel-item::before {content: \"\";position: absolute;border-left: 1px solid gray;box-sizing: border-box;top: 0;bottom: 0;left: 50%;z-index: -1;}#sk-container-id-2 div.sk-parallel-item {display: flex;flex-direction: column;z-index: 1;position: relative;background-color: white;}#sk-container-id-2 div.sk-parallel-item:first-child::after {align-self: flex-end;width: 50%;}#sk-container-id-2 div.sk-parallel-item:last-child::after {align-self: flex-start;width: 50%;}#sk-container-id-2 div.sk-parallel-item:only-child::after {width: 0;}#sk-container-id-2 div.sk-dashed-wrapped {border: 1px dashed gray;margin: 0 0.4em 0.5em 0.4em;box-sizing: border-box;padding-bottom: 0.4em;background-color: white;}#sk-container-id-2 div.sk-label label {font-family: monospace;font-weight: bold;display: inline-block;line-height: 1.2em;}#sk-container-id-2 div.sk-label-container {text-align: center;}#sk-container-id-2 div.sk-container {/* jupyter's `normalize.less` sets `[hidden] { display: none; }` but bootstrap.min.css set `[hidden] { display: none !important; }` so we also need the `!important` here to be able to override the default hidden behavior on the sphinx rendered scikit-learn.org. See: https://github.com/scikit-learn/scikit-learn/issues/21755 */display: inline-block !important;position: relative;}#sk-container-id-2 div.sk-text-repr-fallback {display: none;}</style><div id=\"sk-container-id-2\" class=\"sk-top-container\"><div class=\"sk-text-repr-fallback\"><pre>KNeighborsClassifier()</pre><b>In a Jupyter environment, please rerun this cell to show the HTML representation or trust the notebook. <br />On GitHub, the HTML representation is unable to render, please try loading this page with nbviewer.org.</b></div><div class=\"sk-container\" hidden><div class=\"sk-item\"><div class=\"sk-estimator sk-toggleable\"><input class=\"sk-toggleable__control sk-hidden--visually\" id=\"sk-estimator-id-2\" type=\"checkbox\" checked><label for=\"sk-estimator-id-2\" class=\"sk-toggleable__label sk-toggleable__label-arrow\">KNeighborsClassifier</label><div class=\"sk-toggleable__content\"><pre>KNeighborsClassifier()</pre></div></div></div></div></div>"
            ]
          },
          "metadata": {},
          "execution_count": 23
        }
      ],
      "source": [
        "KNN_model.fit(X_train, y_train)"
      ]
    },
    {
      "cell_type": "code",
      "execution_count": 57,
      "metadata": {
        "colab": {
          "base_uri": "https://localhost:8080/",
          "height": 75
        },
        "id": "mlU_jS5HRLl0",
        "outputId": "f5abf6d8-e376-4391-8100-36eacdcabf82"
      },
      "outputs": [
        {
          "output_type": "execute_result",
          "data": {
            "text/plain": [
              "KNeighborsClassifier()"
            ],
            "text/html": [
              "<style>#sk-container-id-4 {color: black;background-color: white;}#sk-container-id-4 pre{padding: 0;}#sk-container-id-4 div.sk-toggleable {background-color: white;}#sk-container-id-4 label.sk-toggleable__label {cursor: pointer;display: block;width: 100%;margin-bottom: 0;padding: 0.3em;box-sizing: border-box;text-align: center;}#sk-container-id-4 label.sk-toggleable__label-arrow:before {content: \"▸\";float: left;margin-right: 0.25em;color: #696969;}#sk-container-id-4 label.sk-toggleable__label-arrow:hover:before {color: black;}#sk-container-id-4 div.sk-estimator:hover label.sk-toggleable__label-arrow:before {color: black;}#sk-container-id-4 div.sk-toggleable__content {max-height: 0;max-width: 0;overflow: hidden;text-align: left;background-color: #f0f8ff;}#sk-container-id-4 div.sk-toggleable__content pre {margin: 0.2em;color: black;border-radius: 0.25em;background-color: #f0f8ff;}#sk-container-id-4 input.sk-toggleable__control:checked~div.sk-toggleable__content {max-height: 200px;max-width: 100%;overflow: auto;}#sk-container-id-4 input.sk-toggleable__control:checked~label.sk-toggleable__label-arrow:before {content: \"▾\";}#sk-container-id-4 div.sk-estimator input.sk-toggleable__control:checked~label.sk-toggleable__label {background-color: #d4ebff;}#sk-container-id-4 div.sk-label input.sk-toggleable__control:checked~label.sk-toggleable__label {background-color: #d4ebff;}#sk-container-id-4 input.sk-hidden--visually {border: 0;clip: rect(1px 1px 1px 1px);clip: rect(1px, 1px, 1px, 1px);height: 1px;margin: -1px;overflow: hidden;padding: 0;position: absolute;width: 1px;}#sk-container-id-4 div.sk-estimator {font-family: monospace;background-color: #f0f8ff;border: 1px dotted black;border-radius: 0.25em;box-sizing: border-box;margin-bottom: 0.5em;}#sk-container-id-4 div.sk-estimator:hover {background-color: #d4ebff;}#sk-container-id-4 div.sk-parallel-item::after {content: \"\";width: 100%;border-bottom: 1px solid gray;flex-grow: 1;}#sk-container-id-4 div.sk-label:hover label.sk-toggleable__label {background-color: #d4ebff;}#sk-container-id-4 div.sk-serial::before {content: \"\";position: absolute;border-left: 1px solid gray;box-sizing: border-box;top: 0;bottom: 0;left: 50%;z-index: 0;}#sk-container-id-4 div.sk-serial {display: flex;flex-direction: column;align-items: center;background-color: white;padding-right: 0.2em;padding-left: 0.2em;position: relative;}#sk-container-id-4 div.sk-item {position: relative;z-index: 1;}#sk-container-id-4 div.sk-parallel {display: flex;align-items: stretch;justify-content: center;background-color: white;position: relative;}#sk-container-id-4 div.sk-item::before, #sk-container-id-4 div.sk-parallel-item::before {content: \"\";position: absolute;border-left: 1px solid gray;box-sizing: border-box;top: 0;bottom: 0;left: 50%;z-index: -1;}#sk-container-id-4 div.sk-parallel-item {display: flex;flex-direction: column;z-index: 1;position: relative;background-color: white;}#sk-container-id-4 div.sk-parallel-item:first-child::after {align-self: flex-end;width: 50%;}#sk-container-id-4 div.sk-parallel-item:last-child::after {align-self: flex-start;width: 50%;}#sk-container-id-4 div.sk-parallel-item:only-child::after {width: 0;}#sk-container-id-4 div.sk-dashed-wrapped {border: 1px dashed gray;margin: 0 0.4em 0.5em 0.4em;box-sizing: border-box;padding-bottom: 0.4em;background-color: white;}#sk-container-id-4 div.sk-label label {font-family: monospace;font-weight: bold;display: inline-block;line-height: 1.2em;}#sk-container-id-4 div.sk-label-container {text-align: center;}#sk-container-id-4 div.sk-container {/* jupyter's `normalize.less` sets `[hidden] { display: none; }` but bootstrap.min.css set `[hidden] { display: none !important; }` so we also need the `!important` here to be able to override the default hidden behavior on the sphinx rendered scikit-learn.org. See: https://github.com/scikit-learn/scikit-learn/issues/21755 */display: inline-block !important;position: relative;}#sk-container-id-4 div.sk-text-repr-fallback {display: none;}</style><div id=\"sk-container-id-4\" class=\"sk-top-container\"><div class=\"sk-text-repr-fallback\"><pre>KNeighborsClassifier()</pre><b>In a Jupyter environment, please rerun this cell to show the HTML representation or trust the notebook. <br />On GitHub, the HTML representation is unable to render, please try loading this page with nbviewer.org.</b></div><div class=\"sk-container\" hidden><div class=\"sk-item\"><div class=\"sk-estimator sk-toggleable\"><input class=\"sk-toggleable__control sk-hidden--visually\" id=\"sk-estimator-id-4\" type=\"checkbox\" checked><label for=\"sk-estimator-id-4\" class=\"sk-toggleable__label sk-toggleable__label-arrow\">KNeighborsClassifier</label><div class=\"sk-toggleable__content\"><pre>KNeighborsClassifier()</pre></div></div></div></div></div>"
            ]
          },
          "metadata": {},
          "execution_count": 57
        }
      ],
      "source": [
        "SVC_model.fit(X_train, y_train)\n",
        "KNN_model.fit(X_train, y_train)"
      ]
    },
    {
      "cell_type": "code",
      "execution_count": 60,
      "metadata": {
        "id": "gFOTEt6jU0mJ"
      },
      "outputs": [],
      "source": [
        "SVC_prediction = SVC_model.predict(X_test)\n",
        "KNN_prediction = KNN_model.predict(X_test)\n",
        "logi=classifier.predict(X_test)\n",
        "clf_o = tree.DecisionTreeClassifier()\n",
        "clf_model = clf_o.fit(X_train, y_train)\n",
        "clf_prediction=clf_model.predict(X_test)"
      ]
    },
    {
      "cell_type": "markdown",
      "metadata": {
        "id": "wvSUUEBvqFrc"
      },
      "source": [
        "SVM Method"
      ]
    },
    {
      "cell_type": "code",
      "execution_count": 26,
      "metadata": {
        "colab": {
          "base_uri": "https://localhost:8080/",
          "height": 824
        },
        "id": "k-de0eGQVM4p",
        "outputId": "a888b297-282a-4066-cbdb-24bf25342afd"
      },
      "outputs": [
        {
          "output_type": "stream",
          "name": "stdout",
          "text": [
            "----------SVM confusion matrix-----\n",
            "[[144   0   0   3   0   0]\n",
            " [  2   2   0   3   0   2]\n",
            " [  0   0   0   4   0   0]\n",
            " [  0   0   0  51   0   1]\n",
            " [  2   0   0   6   0   0]\n",
            " [  0   0   0   1   0  14]]\n",
            "SVM Accuracy: 0.8978723404255319\n",
            "              precision    recall  f1-score   support\n",
            "\n",
            "     class 0       0.97      0.98      0.98       147\n",
            "     class 1       1.00      0.22      0.36         9\n",
            "     class 2       0.00      0.00      0.00         4\n",
            "     class 3       0.75      0.98      0.85        52\n",
            "     class 4       0.00      0.00      0.00         8\n",
            "     class 5       0.82      0.93      0.87        15\n",
            "\n",
            "    accuracy                           0.90       235\n",
            "   macro avg       0.59      0.52      0.51       235\n",
            "weighted avg       0.87      0.90      0.87       235\n",
            "\n"
          ]
        },
        {
          "output_type": "display_data",
          "data": {
            "text/plain": [
              "<Figure size 640x480 with 2 Axes>"
            ],
            "image/png": "[encoded data removed]"
          },
          "metadata": {}
        }
      ],
      "source": [
        "# print(confusion_matrix(y_test, KNN_prediction))\n",
        "import seaborn as sn\n",
        "print(\"----------SVM confusion matrix-----\")\n",
        "cmd=confusion_matrix(y_test, SVC_prediction)\n",
        "\n",
        "print(cmd)\n",
        "cmd = ConfusionMatrixDisplay(cmd, display_labels=['0','1','2','3','4','5'])\n",
        "print(\"SVM Accuracy:\", accuracy_score(y_test, SVC_prediction))\n",
        "target_names = ['class 0', 'class 1', 'class 2','class 3','class 4','class 5']\n",
        "cmd.plot()\n",
        "print(classification_report(y_test, SVC_prediction, target_names=target_names))\n"
      ]
    },
    {
      "cell_type": "code",
      "source": [
        "# print(confusion_matrix(y_test, KNN_prediction))\n",
        "import seaborn as sn\n",
        "print(\"----------SVM confusion matrix-----\")\n",
        "cmd=confusion_matrix(y_test, KNN_prediction)\n",
        "\n",
        "print(cmd)\n",
        "cmd = ConfusionMatrixDisplay(cmd, display_labels=['0','1','2','3','4','5'])\n",
        "print(\"SVM Accuracy:\", accuracy_score(y_test, KNN_prediction))\n",
        "target_names = ['class 0', 'class 1', 'class 2','class 3','class 4','class 5']\n",
        "cmd.plot()\n",
        "print(classification_report(y_test, KNN_prediction, target_names=target_names))\n"
      ],
      "metadata": {
        "colab": {
          "base_uri": "https://localhost:8080/",
          "height": 827
        },
        "id": "RUr8BopTdWIN",
        "outputId": "3f1a5128-1497-47fc-f5ca-631eaa2e7078"
      },
      "execution_count": 54,
      "outputs": [
        {
          "output_type": "stream",
          "name": "stdout",
          "text": [
            "----------SVM confusion matrix-----\n",
            "[[141   0   0   4   0   2]\n",
            " [  2   2   0   3   0   2]\n",
            " [  0   0   0   4   0   0]\n",
            " [  0   0   0  52   0   0]\n",
            " [  0   0   0   6   0   2]\n",
            " [  0   0   0   2   0  13]]\n",
            "SVM Accuracy: 0.8851063829787233\n",
            "              precision    recall  f1-score   support\n",
            "\n",
            "     class 0       0.99      0.96      0.97       147\n",
            "     class 1       1.00      0.22      0.36         9\n",
            "     class 2       0.00      0.00      0.00         4\n",
            "     class 3       0.73      1.00      0.85        52\n",
            "     class 4       0.00      0.00      0.00         8\n",
            "     class 5       0.68      0.87      0.76        15\n",
            "\n",
            "    accuracy                           0.89       235\n",
            "   macro avg       0.57      0.51      0.49       235\n",
            "weighted avg       0.86      0.89      0.86       235\n",
            "\n"
          ]
        },
        {
          "output_type": "display_data",
          "data": {
            "text/plain": [
              "<Figure size 640x480 with 2 Axes>"
            ],
            "image/png": "[encoded data removed]"
          },
          "metadata": {}
        }
      ]
    },
    {
      "cell_type": "code",
      "source": [
        "# print(confusion_matrix(y_test, KNN_prediction))\n",
        "import seaborn as sn\n",
        "print(\"----------SVM confusion matrix-----\")\n",
        "cmd=confusion_matrix(y_test, clf_prediction)\n",
        "\n",
        "print(cmd)\n",
        "cmd = ConfusionMatrixDisplay(cmd, display_labels=['0','1','2','3','4','5'])\n",
        "print(\"SVM Accuracy:\", accuracy_score(y_test, clf_predict))\n",
        "target_names = ['class 0', 'class 1', 'class 2','class 3','class 4','class 5']\n",
        "cmd.plot()\n",
        "print(classification_report(y_test, clf_prediction, target_names=target_names))"
      ],
      "metadata": {
        "colab": {
          "base_uri": "https://localhost:8080/",
          "height": 824
        },
        "id": "VN13dIcmeJoK",
        "outputId": "6fadb4cf-44f8-42a9-c280-d187a99c9641"
      },
      "execution_count": 61,
      "outputs": [
        {
          "output_type": "stream",
          "name": "stdout",
          "text": [
            "----------SVM confusion matrix-----\n",
            "[[143   1   0   3   0   0]\n",
            " [  2   2   0   3   0   2]\n",
            " [  0   0   4   0   0   0]\n",
            " [  2   0   1  48   0   1]\n",
            " [  1   0   0   7   0   0]\n",
            " [  0   0   0   1   0  14]]\n",
            "SVM Accuracy: 0.8978723404255319\n",
            "              precision    recall  f1-score   support\n",
            "\n",
            "     class 0       0.97      0.97      0.97       147\n",
            "     class 1       0.67      0.22      0.33         9\n",
            "     class 2       0.80      1.00      0.89         4\n",
            "     class 3       0.77      0.92      0.84        52\n",
            "     class 4       0.00      0.00      0.00         8\n",
            "     class 5       0.82      0.93      0.87        15\n",
            "\n",
            "    accuracy                           0.90       235\n",
            "   macro avg       0.67      0.68      0.65       235\n",
            "weighted avg       0.87      0.90      0.88       235\n",
            "\n"
          ]
        },
        {
          "output_type": "display_data",
          "data": {
            "text/plain": [
              "<Figure size 640x480 with 2 Axes>"
            ],
            "image/png": "[encoded data removed]"
          },
          "metadata": {}
        }
      ]
    },
    {
      "cell_type": "code",
      "execution_count": 27,
      "metadata": {
        "colab": {
          "base_uri": "https://localhost:8080/"
        },
        "id": "gW09GyPR3fM0",
        "outputId": "79898dad-6d83-467b-a8c0-3c453d7938ed"
      },
      "outputs": [
        {
          "output_type": "stream",
          "name": "stdout",
          "text": [
            "0.8851063829787233\n",
            "0.8851063829787233\n"
          ]
        }
      ],
      "source": [
        "\n",
        "y_prob = KNN_model.predict_proba(X_test)\n",
        "y_prob_logi = KNN_model.predict_proba(X_test)\n",
        "print(accuracy_score(y_test, KNN_prediction))\n",
        "print(accuracy_score(y_test, logi))\n",
        "\n",
        "#print(y_prob_logi)"
      ]
    },
    {
      "cell_type": "code",
      "source": [
        "y_test.shape"
      ],
      "metadata": {
        "colab": {
          "base_uri": "https://localhost:8080/"
        },
        "id": "qbQ52heGC8_e",
        "outputId": "c0b87efe-7ad4-4452-83e1-2f34872d5f31"
      },
      "execution_count": 28,
      "outputs": [
        {
          "output_type": "execute_result",
          "data": {
            "text/plain": [
              "(235,)"
            ]
          },
          "metadata": {},
          "execution_count": 28
        }
      ]
    },
    {
      "cell_type": "code",
      "source": [
        "y_test"
      ],
      "metadata": {
        "colab": {
          "base_uri": "https://localhost:8080/"
        },
        "id": "ZgoUfFiEA4-j",
        "outputId": "f539633d-f0ed-4999-9b92-98b4322fab7e"
      },
      "execution_count": 29,
      "outputs": [
        {
          "output_type": "execute_result",
          "data": {
            "text/plain": [
              "677    0.0\n",
              "718    0.0\n",
              "245    4.0\n",
              "10     3.0\n",
              "556    0.0\n",
              "      ... \n",
              "660    0.0\n",
              "764    0.0\n",
              "672    0.0\n",
              "636    0.0\n",
              "181    3.0\n",
              "Name: Risk level, Length: 235, dtype: float64"
            ]
          },
          "metadata": {},
          "execution_count": 29
        }
      ]
    },
    {
      "cell_type": "code",
      "source": [
        "print(\"The risk label is :\",KNN_prediction[3])"
      ],
      "metadata": {
        "colab": {
          "base_uri": "https://localhost:8080/"
        },
        "id": "aNVSIzVFA-kK",
        "outputId": "49874fc6-acee-464d-8894-8cea5dabe713"
      },
      "execution_count": 30,
      "outputs": [
        {
          "output_type": "stream",
          "name": "stdout",
          "text": [
            "The risk label is : 3.0\n"
          ]
        }
      ]
    },
    {
      "cell_type": "code",
      "execution_count": 31,
      "metadata": {
        "colab": {
          "base_uri": "https://localhost:8080/"
        },
        "id": "h7M7f8UE3zVY",
        "outputId": "0916c143-01d2-484b-8c00-4439f2d437a2"
      },
      "outputs": [
        {
          "output_type": "stream",
          "name": "stdout",
          "text": [
            "Accuracy: 0.8851063829787233\n"
          ]
        }
      ],
      "source": [
        "from sklearn.metrics import accuracy_score, precision_score, recall_score, f1_score\n",
        "\n",
        "print(\"Accuracy:\", accuracy_score(y_test, KNN_prediction))\n",
        "# print(\"Precision:\", precision_score(y_test, KNN_prediction))\n",
        "# print(\"Recall:\", recall_score(y_test, KNN_prediction))\n",
        "# print(\"F1 score:\", f1_score(y_test, KNN_prediction))"
      ]
    },
    {
      "cell_type": "code",
      "source": [],
      "metadata": {
        "id": "B57bwaOOA9zg"
      },
      "execution_count": 31,
      "outputs": []
    },
    {
      "cell_type": "code",
      "execution_count": 32,
      "metadata": {
        "id": "_0sISE3e4hNF"
      },
      "outputs": [],
      "source": [
        "gnb = GaussianNB()\n",
        "\n",
        "# Train the classifier:\n",
        "model = gnb.fit(X_train, y_train)\n",
        "# Make predictions with the classifier:\n",
        "predictive_labels = gnb.predict(X_test)\n",
        "# print(\"Accuracy:\", accuracy_score(y_test, predictive_labels))\n",
        "# print(\"Precision:\", precision_score(y_test, predictive_labels))\n",
        "# print(\"Recall:\", recall_score(y_test, predictive_labels))\n",
        "# print(\"F1 score:\", f1_score(y_test, predictive_labels))\n",
        "# print(predictive_labels)"
      ]
    },
    {
      "cell_type": "code",
      "execution_count": 33,
      "metadata": {
        "id": "85TLxZhq5bur"
      },
      "outputs": [],
      "source": [
        "from sklearn import tree"
      ]
    },
    {
      "cell_type": "code",
      "execution_count": 34,
      "metadata": {
        "id": "F4RWs2gHSmsr"
      },
      "outputs": [],
      "source": [
        "clf = tree.DecisionTreeClassifier()\n",
        "clf = clf.fit(X_train, y_train)"
      ]
    },
    {
      "cell_type": "code",
      "execution_count": 35,
      "metadata": {
        "colab": {
          "base_uri": "https://localhost:8080/"
        },
        "id": "z5gaE1bByChb",
        "outputId": "98fe8c69-d2b2-4e6b-e700-add1dfaf69fb"
      },
      "outputs": [
        {
          "output_type": "stream",
          "name": "stdout",
          "text": [
            "Accuracy: 0.8978723404255319\n"
          ]
        }
      ],
      "source": [
        "clf_predict=clf.predict(X_test)\n",
        "print(\"Accuracy:\", accuracy_score(y_test, clf_predict))\n",
        "#print(\"Precision:\", precision_score(y_test, clf_predict))\n",
        "# print(\"Recall:\", recall_score(y_test, clf_predict))\n",
        "# print(\"F1 score:\", f1_score(y_test, clf_predict))\n",
        "# print(predictive_labels)"
      ]
    },
    {
      "cell_type": "code",
      "execution_count": 36,
      "metadata": {
        "id": "0ZXGEaohTf0z"
      },
      "outputs": [],
      "source": [
        "import graphviz \n",
        "dot_data = tree.export_graphviz(clf, out_file=None) \n",
        "graph = graphviz.Source(dot_data) "
      ]
    },
    {
      "cell_type": "code",
      "execution_count": 37,
      "metadata": {
        "colab": {
          "base_uri": "https://localhost:8080/"
        },
        "id": "7koM-tD0hEF7",
        "outputId": "5d2f8f02-288e-44e0-ceed-cc80cd99810e"
      },
      "outputs": [
        {
          "output_type": "stream",
          "name": "stdout",
          "text": [
            "Looking in indexes: https://pypi.org/simple, https://us-python.pkg.dev/colab-wheels/public/simple/\n",
            "Requirement already satisfied: imbalanced-learn in /usr/local/lib/python3.10/dist-packages (0.10.1)\n",
            "Requirement already satisfied: numpy>=1.17.3 in /usr/local/lib/python3.10/dist-packages (from imbalanced-learn) (1.22.4)\n",
            "Requirement already satisfied: scipy>=1.3.2 in /usr/local/lib/python3.10/dist-packages (from imbalanced-learn) (1.10.1)\n",
            "Requirement already satisfied: scikit-learn>=1.0.2 in /usr/local/lib/python3.10/dist-packages (from imbalanced-learn) (1.2.2)\n",
            "Requirement already satisfied: joblib>=1.1.1 in /usr/local/lib/python3.10/dist-packages (from imbalanced-learn) (1.2.0)\n",
            "Requirement already satisfied: threadpoolctl>=2.0.0 in /usr/local/lib/python3.10/dist-packages (from imbalanced-learn) (3.1.0)\n"
          ]
        }
      ],
      "source": [
        "!pip install imbalanced-learn"
      ]
    },
    {
      "cell_type": "code",
      "execution_count": 38,
      "metadata": {
        "id": "pKhfFXRBUGCn"
      },
      "outputs": [],
      "source": [
        "import imblearn\n",
        "from imblearn.over_sampling import SMOTE\n",
        "\n",
        "from imblearn.over_sampling import RandomOverSampler\n",
        "oversample_ = SMOTE()\n",
        "\n",
        "#oversample = RandomOverSampler(sampling_strategy='minority')"
      ]
    },
    {
      "cell_type": "code",
      "execution_count": 39,
      "metadata": {
        "id": "hioISkP7kx5w"
      },
      "outputs": [],
      "source": [
        "X_over, y_over = oversample_.fit_resample(X, y)\n",
        "X_train_o, X_test_o, y_train_o, y_test_o = train_test_split(X_over, y_over, test_size=0.3, random_state=27)\n"
      ]
    },
    {
      "cell_type": "code",
      "source": [
        "X_test_o.shape"
      ],
      "metadata": {
        "colab": {
          "base_uri": "https://localhost:8080/"
        },
        "id": "t_d0KViq_v-G",
        "outputId": "7f6fa357-0abe-43ca-cf2a-f4aa9ce83e94"
      },
      "execution_count": 40,
      "outputs": [
        {
          "output_type": "execute_result",
          "data": {
            "text/plain": [
              "(893, 11)"
            ]
          },
          "metadata": {},
          "execution_count": 40
        }
      ]
    },
    {
      "cell_type": "code",
      "execution_count": 41,
      "metadata": {
        "id": "fzHpKkE0kz5q"
      },
      "outputs": [],
      "source": [
        "SVC_model = SVC()\n",
        "# KNN model requires you to specify n_neighbors,\n",
        "# the number of points the classifier will look at to determine what class a new point belongs to\n",
        "KNN_model = KNeighborsClassifier(n_neighbors=5)\n",
        "Tree_model=tree.DecisionTreeClassifier()\n"
      ]
    },
    {
      "cell_type": "code",
      "execution_count": 42,
      "metadata": {
        "id": "ZZQAbjKVlH6E"
      },
      "outputs": [],
      "source": [
        "SVC_model = SVC()\n",
        "# KNN model requires you to specify n_neighbors,\n",
        "# the number of points the classifier will look at to determine what class a new point belongs to\n",
        "KNN_model_over = KNeighborsClassifier(n_neighbors=5)\n"
      ]
    },
    {
      "cell_type": "code",
      "execution_count": 43,
      "metadata": {
        "colab": {
          "base_uri": "https://localhost:8080/"
        },
        "id": "_LsnALJMlbcq",
        "outputId": "34484443-d9b2-448c-e324-7548e7e3ffea"
      },
      "outputs": [
        {
          "output_type": "stream",
          "name": "stdout",
          "text": [
            "0.8857782754759238\n",
            "0.8544232922732363\n",
            "0.9092945128779395\n"
          ]
        }
      ],
      "source": [
        "KNN_model_over.fit(X_train_o, y_train_o)\n",
        "SVC_model.fit(X_train_o, y_train_o)\n",
        "SVC_prediction = SVC_model.predict(X_test_o)\n",
        "Tree_model.fit(X_train_o, y_train_o)\n",
        "tree_prediction = Tree_model.predict(X_test_o)\n",
        "\n",
        "KNN_predictions = KNN_model_over.predict(X_test_o)\n",
        "print(accuracy_score(y_test_o, KNN_predictions))\n",
        "print(accuracy_score(y_test_o, SVC_prediction))\n",
        "print(accuracy_score(y_test_o, tree_prediction))"
      ]
    },
    {
      "cell_type": "code",
      "source": [
        "svc_over=SVC_model.predict(X_test)\n",
        "print(accuracy_score(y_test, svc_over))"
      ],
      "metadata": {
        "colab": {
          "base_uri": "https://localhost:8080/"
        },
        "id": "vXlRrEyJ1Z9J",
        "outputId": "2a85c127-fba9-4087-99b8-bd6beb0f18f1"
      },
      "execution_count": 44,
      "outputs": [
        {
          "output_type": "stream",
          "name": "stdout",
          "text": [
            "0.8808510638297873\n"
          ]
        }
      ]
    },
    {
      "cell_type": "code",
      "execution_count": 45,
      "metadata": {
        "colab": {
          "base_uri": "https://localhost:8080/",
          "height": 735
        },
        "id": "n1i9XAzlH_2P",
        "outputId": "c8a82396-ce0c-4916-ca8b-70398191cfd5"
      },
      "outputs": [
        {
          "output_type": "stream",
          "name": "stdout",
          "text": [
            "----------KNN confusion matrix-----\n",
            "<sklearn.metrics._plot.confusion_matrix.ConfusionMatrixDisplay object at 0x7f5188556740>\n",
            "KNN Accuracy: 0.8857782754759238\n",
            "              precision    recall  f1-score   support\n",
            "\n",
            "     class 0       1.00      0.93      0.96       166\n",
            "     class 1       0.90      0.87      0.89       146\n",
            "     class 2       0.96      0.99      0.98       140\n",
            "     class 3       0.78      0.88      0.82       152\n",
            "     class 4       0.76      0.77      0.77       142\n",
            "     class 5       0.93      0.87      0.90       147\n",
            "\n",
            "    accuracy                           0.89       893\n",
            "   macro avg       0.89      0.89      0.89       893\n",
            "weighted avg       0.89      0.89      0.89       893\n",
            "\n"
          ]
        },
        {
          "output_type": "display_data",
          "data": {
            "text/plain": [
              "<Figure size 640x480 with 2 Axes>"
            ],
            "image/png": "[encoded data removed]"
          },
          "metadata": {}
        }
      ],
      "source": [
        "# print(confusion_matrix(y_test, KNN_prediction))\n",
        "import seaborn as sn\n",
        "print(\"----------KNN confusion matrix-----\")\n",
        "cmd_=confusion_matrix(y_test_o, KNN_predictions)\n",
        "\n",
        "print(cmd)\n",
        "cmd = ConfusionMatrixDisplay(cmd_, display_labels=['0','1','2','3','4','5'])\n",
        "print(\"KNN Accuracy:\", accuracy_score(y_test_o, KNN_predictions))\n",
        "target_names = ['class 0', 'class 1', 'class 2','class 3','class 4','class 5']\n",
        "cmd.plot()\n",
        "print(classification_report(y_test_o, KNN_predictions, target_names=target_names))\n"
      ]
    },
    {
      "cell_type": "code",
      "source": [
        "# print(confusion_matrix(y_test, KNN_prediction))\n",
        "import seaborn as sn\n",
        "print(\"----------KNN confusion matrix-----\")\n",
        "cmd_=confusion_matrix(y_test_o, SVC_prediction)\n",
        "\n",
        "print(cmd)\n",
        "cmd = ConfusionMatrixDisplay(cmd_, display_labels=['0','1','2','3','4','5'])\n",
        "print(\"SVM Accuracy:\", accuracy_score(y_test_o, SVC_prediction))\n",
        "target_names = ['class 0', 'class 1', 'class 2','class 3','class 4','class 5']\n",
        "cmd.plot()\n",
        "print(classification_report(y_test_o, SVC_prediction, target_names=target_names))"
      ],
      "metadata": {
        "colab": {
          "base_uri": "https://localhost:8080/",
          "height": 735
        },
        "id": "2p9ZY_uz8nr_",
        "outputId": "b5f199dd-ce04-4da8-927f-5efb5ec16ed2"
      },
      "execution_count": 46,
      "outputs": [
        {
          "output_type": "stream",
          "name": "stdout",
          "text": [
            "----------KNN confusion matrix-----\n",
            "<sklearn.metrics._plot.confusion_matrix.ConfusionMatrixDisplay object at 0x7f518a189630>\n",
            "SVM Accuracy: 0.8544232922732363\n",
            "              precision    recall  f1-score   support\n",
            "\n",
            "     class 0       1.00      0.96      0.98       166\n",
            "     class 1       0.88      0.73      0.80       146\n",
            "     class 2       0.95      0.96      0.95       140\n",
            "     class 3       0.83      0.70      0.76       152\n",
            "     class 4       0.66      0.89      0.76       142\n",
            "     class 5       0.85      0.88      0.87       147\n",
            "\n",
            "    accuracy                           0.85       893\n",
            "   macro avg       0.86      0.85      0.85       893\n",
            "weighted avg       0.87      0.85      0.86       893\n",
            "\n"
          ]
        },
        {
          "output_type": "display_data",
          "data": {
            "text/plain": [
              "<Figure size 640x480 with 2 Axes>"
            ],
            "image/png": "[encoded data removed]"
          },
          "metadata": {}
        }
      ]
    },
    {
      "cell_type": "code",
      "source": [
        "# print(confusion_matrix(y_test, KNN_prediction))\n",
        "import seaborn as sn\n",
        "print(\"----------KNN confusion matrix-----\")\n",
        "cmd_=confusion_matrix(y_test_o, tree_prediction)\n",
        "\n",
        "print(cmd)\n",
        "cmd = ConfusionMatrixDisplay(cmd_, display_labels=['0','1','2','3','4','5'])\n",
        "print(\"KNN Accuracy:\", accuracy_score(y_test_o, tree_prediction))\n",
        "target_names = ['class 0', 'class 1', 'class 2','class 3','class 4','class 5']\n",
        "cmd.plot()\n",
        "print(classification_report(y_test_o, tree_prediction, target_names=target_names))\n"
      ],
      "metadata": {
        "colab": {
          "base_uri": "https://localhost:8080/",
          "height": 735
        },
        "id": "KtR3PwQmxqND",
        "outputId": "92342f18-9788-4fd6-f2e8-d6909efe414e"
      },
      "execution_count": 47,
      "outputs": [
        {
          "output_type": "stream",
          "name": "stdout",
          "text": [
            "----------KNN confusion matrix-----\n",
            "<sklearn.metrics._plot.confusion_matrix.ConfusionMatrixDisplay object at 0x7f518a18a170>\n",
            "KNN Accuracy: 0.9092945128779395\n",
            "              precision    recall  f1-score   support\n",
            "\n",
            "     class 0       1.00      0.93      0.96       166\n",
            "     class 1       0.89      0.92      0.91       146\n",
            "     class 2       0.97      0.99      0.98       140\n",
            "     class 3       0.79      0.88      0.83       152\n",
            "     class 4       0.91      0.75      0.82       142\n",
            "     class 5       0.92      0.98      0.95       147\n",
            "\n",
            "    accuracy                           0.91       893\n",
            "   macro avg       0.91      0.91      0.91       893\n",
            "weighted avg       0.91      0.91      0.91       893\n",
            "\n"
          ]
        },
        {
          "output_type": "display_data",
          "data": {
            "text/plain": [
              "<Figure size 640x480 with 2 Axes>"
            ],
            "image/png": "[encoded data removed]"
          },
          "metadata": {}
        }
      ]
    },
    {
      "cell_type": "markdown",
      "metadata": {
        "id": "VTH5M1DrDepe"
      },
      "source": [
        "K-Fold Cross Validation"
      ]
    },
    {
      "cell_type": "code",
      "execution_count": 62,
      "metadata": {
        "id": "tVTMIbm8D5ZK"
      },
      "outputs": [],
      "source": [
        "from sklearn.model_selection import KFold,cross_val_score\n",
        "from sklearn.linear_model import LogisticRegression\n",
        "from sklearn.metrics import accuracy_score"
      ]
    },
    {
      "cell_type": "code",
      "execution_count": 49,
      "metadata": {
        "colab": {
          "base_uri": "https://localhost:8080/"
        },
        "id": "MAQ59beomISe",
        "outputId": "fc66f09c-6541-4629-9bcc-8eb8cb1d66d6"
      },
      "outputs": [
        {
          "output_type": "stream",
          "name": "stdout",
          "text": [
            "KNN-Cross-validation scores: [0.75503356 0.8789916  0.70420168 0.84537815 0.89747899]\n",
            "SVM scores: [0.86409396 0.88235294 0.86386555 0.85546218 0.80840336]\n",
            "Decision Tree: [0.91107383 0.90420168 0.89411765 0.89411765 0.91092437]\n"
          ]
        }
      ],
      "source": [
        "kfold = KFold(n_splits=5, shuffle=True, random_state=42)\n",
        "\n",
        "# Perform cross-validation\n",
        "scores = cross_val_score(KNN_model, X_over, y_over, cv=kfold)\n",
        "scores_svm = cross_val_score(SVC_model, X_over, y_over, cv=kfold)\n",
        "scores_clf = cross_val_score(Tree_model, X_over, y_over, cv=kfold)\n",
        "# Print the cross-validation scores\n",
        "print('KNN-Cross-validation scores: {}'.format(scores))\n",
        "print('SVM scores: {}'.format(scores_svm))\n",
        "print('Decision Tree: {}'.format(scores_clf))\n"
      ]
    },
    {
      "cell_type": "code",
      "source": [
        "DT_CROSS_VAL = cross_val_score(KNN_model,X_over,y_over,cv=10,scoring='f1')\n",
        "RF_CROSS_VAL = cross_val_score(SVC_model,X_over,y_over,cv=10,scoring='f1')\n",
        "SVM_CROSS_VAL = cross_val_score(Tree_model,X_over,y_over,cv=10,scoring='f1')\n"
      ],
      "metadata": {
        "id": "epRucz4ym22m"
      },
      "execution_count": 50,
      "outputs": []
    },
    {
      "cell_type": "code",
      "source": [
        "from xgboost import XGBClassifier\n",
        "classifier_xgb = XGBClassifier(learning_rate= 0.01,max_depth = 3,n_estimators = 1000)"
      ],
      "metadata": {
        "id": "L8-IR0KqO5JV"
      },
      "execution_count": 51,
      "outputs": []
    },
    {
      "cell_type": "code",
      "source": [
        "from sklearn.svm import SVC\n",
        "from sklearn.model_selection import RandomizedSearchCV\n",
        "from sklearn.neighbors import KNeighborsClassifier\n",
        "from sklearn.model_selection import cross_val_score\n",
        "knn_scores=[]\n",
        "for k in range(1,20):\n",
        "    knn=KNeighborsClassifier(n_neighbors=k)\n",
        "    scores=cross_val_score(knn,X_train_o,y_train_o,cv=5)\n",
        "    knn_scores.append(scores.mean())\n",
        "\n",
        "x_ticks = [1,2,3,4,5,6,7,8,9,10,11,12,13,14,15,16,17,18,19,20]\n",
        "x_labels = x_ticks\n",
        "\n",
        "plt.plot([k for k in range(1,20)],knn_scores)\n",
        "plt.xticks(ticks=x_ticks, labels=x_labels)\n",
        "plt.xlabel(\"Parameter K in KNN\")\n",
        "plt.ylabel(\"F1-score\")\n",
        "plt.grid()"
      ],
      "metadata": {
        "colab": {
          "base_uri": "https://localhost:8080/",
          "height": 449
        },
        "id": "oXYrylwWRMn-",
        "outputId": "99867016-9a6d-4c70-8add-28c663a91780"
      },
      "execution_count": 52,
      "outputs": [
        {
          "output_type": "display_data",
          "data": {
            "text/plain": [
              "<Figure size 640x480 with 1 Axes>"
            ],
            "image/png": "[encoded data removed]"
          },
          "metadata": {}
        }
      ]
    },
    {
      "cell_type": "code",
      "source": [],
      "metadata": {
        "id": "ox3PTP4yPlG4"
      },
      "execution_count": 52,
      "outputs": []
    }
  ],
  "metadata": {
    "colab": {
      "provenance": []
    },
    "kernelspec": {
      "display_name": "Python 3",
      "name": "python3"
    },
    "language_info": {
      "name": "python"
    }
  },
  "nbformat": 4,
  "nbformat_minor": 0
}